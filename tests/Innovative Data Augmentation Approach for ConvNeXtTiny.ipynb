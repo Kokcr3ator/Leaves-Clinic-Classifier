{
 "cells": [
  {
   "cell_type": "markdown",
   "metadata": {
    "id": "3hAvqSli1b3L"
   },
   "source": [
    "### Import Libraries\n"
   ]
  },
  {
   "cell_type": "code",
   "execution_count": 1,
   "metadata": {
    "execution": {
     "iopub.execute_input": "2023-11-14T19:57:31.635470Z",
     "iopub.status.busy": "2023-11-14T19:57:31.634543Z",
     "iopub.status.idle": "2023-11-14T19:58:36.773802Z",
     "shell.execute_reply": "2023-11-14T19:58:36.772179Z",
     "shell.execute_reply.started": "2023-11-14T19:57:31.635427Z"
    }
   },
   "outputs": [
    {
     "name": "stdout",
     "output_type": "stream",
     "text": [
      "Collecting tensorflow==2.14.0\n",
      "  Obtaining dependency information for tensorflow==2.14.0 from https://files.pythonhosted.org/packages/e2/7a/c7762c698fb1ac41a7e3afee51dc72aa3ec74ae8d2f57ce19a9cded3a4af/tensorflow-2.14.0-cp310-cp310-manylinux_2_17_x86_64.manylinux2014_x86_64.whl.metadata\n",
      "  Downloading tensorflow-2.14.0-cp310-cp310-manylinux_2_17_x86_64.manylinux2014_x86_64.whl.metadata (4.1 kB)\n",
      "Requirement already satisfied: absl-py>=1.0.0 in /opt/conda/lib/python3.10/site-packages (from tensorflow==2.14.0) (1.4.0)\n",
      "Requirement already satisfied: astunparse>=1.6.0 in /opt/conda/lib/python3.10/site-packages (from tensorflow==2.14.0) (1.6.3)\n",
      "Requirement already satisfied: flatbuffers>=23.5.26 in /opt/conda/lib/python3.10/site-packages (from tensorflow==2.14.0) (23.5.26)\n",
      "Requirement already satisfied: gast!=0.5.0,!=0.5.1,!=0.5.2,>=0.2.1 in /opt/conda/lib/python3.10/site-packages (from tensorflow==2.14.0) (0.4.0)\n",
      "Requirement already satisfied: google-pasta>=0.1.1 in /opt/conda/lib/python3.10/site-packages (from tensorflow==2.14.0) (0.2.0)\n",
      "Requirement already satisfied: h5py>=2.9.0 in /opt/conda/lib/python3.10/site-packages (from tensorflow==2.14.0) (3.9.0)\n",
      "Requirement already satisfied: libclang>=13.0.0 in /opt/conda/lib/python3.10/site-packages (from tensorflow==2.14.0) (16.0.6)\n",
      "Collecting ml-dtypes==0.2.0 (from tensorflow==2.14.0)\n",
      "  Obtaining dependency information for ml-dtypes==0.2.0 from https://files.pythonhosted.org/packages/d1/1d/d5cf76e5e40f69dbd273036e3172ae4a614577cb141673427b80cac948df/ml_dtypes-0.2.0-cp310-cp310-manylinux_2_17_x86_64.manylinux2014_x86_64.whl.metadata\n",
      "  Downloading ml_dtypes-0.2.0-cp310-cp310-manylinux_2_17_x86_64.manylinux2014_x86_64.whl.metadata (20 kB)\n",
      "Requirement already satisfied: numpy>=1.23.5 in /opt/conda/lib/python3.10/site-packages (from tensorflow==2.14.0) (1.24.3)\n",
      "Requirement already satisfied: opt-einsum>=2.3.2 in /opt/conda/lib/python3.10/site-packages (from tensorflow==2.14.0) (3.3.0)\n",
      "Requirement already satisfied: packaging in /opt/conda/lib/python3.10/site-packages (from tensorflow==2.14.0) (21.3)\n",
      "Requirement already satisfied: protobuf!=4.21.0,!=4.21.1,!=4.21.2,!=4.21.3,!=4.21.4,!=4.21.5,<5.0.0dev,>=3.20.3 in /opt/conda/lib/python3.10/site-packages (from tensorflow==2.14.0) (3.20.3)\n",
      "Requirement already satisfied: setuptools in /opt/conda/lib/python3.10/site-packages (from tensorflow==2.14.0) (68.1.2)\n",
      "Requirement already satisfied: six>=1.12.0 in /opt/conda/lib/python3.10/site-packages (from tensorflow==2.14.0) (1.16.0)\n",
      "Requirement already satisfied: termcolor>=1.1.0 in /opt/conda/lib/python3.10/site-packages (from tensorflow==2.14.0) (2.3.0)\n",
      "Requirement already satisfied: typing-extensions>=3.6.6 in /opt/conda/lib/python3.10/site-packages (from tensorflow==2.14.0) (4.5.0)\n",
      "Collecting wrapt<1.15,>=1.11.0 (from tensorflow==2.14.0)\n",
      "  Downloading wrapt-1.14.1-cp310-cp310-manylinux_2_5_x86_64.manylinux1_x86_64.manylinux_2_17_x86_64.manylinux2014_x86_64.whl (77 kB)\n",
      "\u001b[2K     \u001b[90m━━━━━━━━━━━━━━━━━━━━━━━━━━━━━━━━━━━━━━━━\u001b[0m \u001b[32m77.9/77.9 kB\u001b[0m \u001b[31m3.6 MB/s\u001b[0m eta \u001b[36m0:00:00\u001b[0m\n",
      "\u001b[?25hRequirement already satisfied: tensorflow-io-gcs-filesystem>=0.23.1 in /opt/conda/lib/python3.10/site-packages (from tensorflow==2.14.0) (0.34.0)\n",
      "Requirement already satisfied: grpcio<2.0,>=1.24.3 in /opt/conda/lib/python3.10/site-packages (from tensorflow==2.14.0) (1.51.1)\n",
      "Collecting tensorboard<2.15,>=2.14 (from tensorflow==2.14.0)\n",
      "  Obtaining dependency information for tensorboard<2.15,>=2.14 from https://files.pythonhosted.org/packages/73/a2/66ed644f6ed1562e0285fcd959af17670ea313c8f331c46f79ee77187eb9/tensorboard-2.14.1-py3-none-any.whl.metadata\n",
      "  Downloading tensorboard-2.14.1-py3-none-any.whl.metadata (1.7 kB)\n",
      "Collecting tensorflow-estimator<2.15,>=2.14.0 (from tensorflow==2.14.0)\n",
      "  Obtaining dependency information for tensorflow-estimator<2.15,>=2.14.0 from https://files.pythonhosted.org/packages/d1/da/4f264c196325bb6e37a6285caec5b12a03def489b57cc1fdac02bb6272cd/tensorflow_estimator-2.14.0-py2.py3-none-any.whl.metadata\n",
      "  Downloading tensorflow_estimator-2.14.0-py2.py3-none-any.whl.metadata (1.3 kB)\n",
      "Collecting keras<2.15,>=2.14.0 (from tensorflow==2.14.0)\n",
      "  Obtaining dependency information for keras<2.15,>=2.14.0 from https://files.pythonhosted.org/packages/fe/58/34d4d8f1aa11120c2d36d7ad27d0526164b1a8ae45990a2fede31d0e59bf/keras-2.14.0-py3-none-any.whl.metadata\n",
      "  Downloading keras-2.14.0-py3-none-any.whl.metadata (2.4 kB)\n",
      "Requirement already satisfied: wheel<1.0,>=0.23.0 in /opt/conda/lib/python3.10/site-packages (from astunparse>=1.6.0->tensorflow==2.14.0) (0.41.2)\n",
      "Requirement already satisfied: google-auth<3,>=1.6.3 in /opt/conda/lib/python3.10/site-packages (from tensorboard<2.15,>=2.14->tensorflow==2.14.0) (2.22.0)\n",
      "Requirement already satisfied: google-auth-oauthlib<1.1,>=0.5 in /opt/conda/lib/python3.10/site-packages (from tensorboard<2.15,>=2.14->tensorflow==2.14.0) (1.0.0)\n",
      "Requirement already satisfied: markdown>=2.6.8 in /opt/conda/lib/python3.10/site-packages (from tensorboard<2.15,>=2.14->tensorflow==2.14.0) (3.4.4)\n",
      "Requirement already satisfied: requests<3,>=2.21.0 in /opt/conda/lib/python3.10/site-packages (from tensorboard<2.15,>=2.14->tensorflow==2.14.0) (2.31.0)\n",
      "Requirement already satisfied: tensorboard-data-server<0.8.0,>=0.7.0 in /opt/conda/lib/python3.10/site-packages (from tensorboard<2.15,>=2.14->tensorflow==2.14.0) (0.7.1)\n",
      "Requirement already satisfied: werkzeug>=1.0.1 in /opt/conda/lib/python3.10/site-packages (from tensorboard<2.15,>=2.14->tensorflow==2.14.0) (3.0.1)\n",
      "Requirement already satisfied: pyparsing!=3.0.5,>=2.0.2 in /opt/conda/lib/python3.10/site-packages (from packaging->tensorflow==2.14.0) (3.0.9)\n",
      "Requirement already satisfied: cachetools<6.0,>=2.0.0 in /opt/conda/lib/python3.10/site-packages (from google-auth<3,>=1.6.3->tensorboard<2.15,>=2.14->tensorflow==2.14.0) (4.2.4)\n",
      "Requirement already satisfied: pyasn1-modules>=0.2.1 in /opt/conda/lib/python3.10/site-packages (from google-auth<3,>=1.6.3->tensorboard<2.15,>=2.14->tensorflow==2.14.0) (0.2.7)\n",
      "Requirement already satisfied: rsa<5,>=3.1.4 in /opt/conda/lib/python3.10/site-packages (from google-auth<3,>=1.6.3->tensorboard<2.15,>=2.14->tensorflow==2.14.0) (4.9)\n",
      "Requirement already satisfied: urllib3<2.0 in /opt/conda/lib/python3.10/site-packages (from google-auth<3,>=1.6.3->tensorboard<2.15,>=2.14->tensorflow==2.14.0) (1.26.15)\n",
      "Requirement already satisfied: requests-oauthlib>=0.7.0 in /opt/conda/lib/python3.10/site-packages (from google-auth-oauthlib<1.1,>=0.5->tensorboard<2.15,>=2.14->tensorflow==2.14.0) (1.3.1)\n",
      "Requirement already satisfied: charset-normalizer<4,>=2 in /opt/conda/lib/python3.10/site-packages (from requests<3,>=2.21.0->tensorboard<2.15,>=2.14->tensorflow==2.14.0) (3.2.0)\n",
      "Requirement already satisfied: idna<4,>=2.5 in /opt/conda/lib/python3.10/site-packages (from requests<3,>=2.21.0->tensorboard<2.15,>=2.14->tensorflow==2.14.0) (3.4)\n",
      "Requirement already satisfied: certifi>=2017.4.17 in /opt/conda/lib/python3.10/site-packages (from requests<3,>=2.21.0->tensorboard<2.15,>=2.14->tensorflow==2.14.0) (2023.7.22)\n",
      "Requirement already satisfied: MarkupSafe>=2.1.1 in /opt/conda/lib/python3.10/site-packages (from werkzeug>=1.0.1->tensorboard<2.15,>=2.14->tensorflow==2.14.0) (2.1.3)\n",
      "Requirement already satisfied: pyasn1<0.5.0,>=0.4.6 in /opt/conda/lib/python3.10/site-packages (from pyasn1-modules>=0.2.1->google-auth<3,>=1.6.3->tensorboard<2.15,>=2.14->tensorflow==2.14.0) (0.4.8)\n",
      "Requirement already satisfied: oauthlib>=3.0.0 in /opt/conda/lib/python3.10/site-packages (from requests-oauthlib>=0.7.0->google-auth-oauthlib<1.1,>=0.5->tensorboard<2.15,>=2.14->tensorflow==2.14.0) (3.2.2)\n",
      "Downloading tensorflow-2.14.0-cp310-cp310-manylinux_2_17_x86_64.manylinux2014_x86_64.whl (489.8 MB)\n",
      "\u001b[2K   \u001b[90m━━━━━━━━━━━━━━━━━━━━━━━━━━━━━━━━━━━━━━━━\u001b[0m \u001b[32m489.8/489.8 MB\u001b[0m \u001b[31m2.3 MB/s\u001b[0m eta \u001b[36m0:00:00\u001b[0m:00:01\u001b[0m00:01\u001b[0m\n",
      "\u001b[?25hDownloading ml_dtypes-0.2.0-cp310-cp310-manylinux_2_17_x86_64.manylinux2014_x86_64.whl (1.0 MB)\n",
      "\u001b[2K   \u001b[90m━━━━━━━━━━━━━━━━━━━━━━━━━━━━━━━━━━━━━━━━\u001b[0m \u001b[32m1.0/1.0 MB\u001b[0m \u001b[31m55.9 MB/s\u001b[0m eta \u001b[36m0:00:00\u001b[0m\n",
      "\u001b[?25hDownloading keras-2.14.0-py3-none-any.whl (1.7 MB)\n",
      "\u001b[2K   \u001b[90m━━━━━━━━━━━━━━━━━━━━━━━━━━━━━━━━━━━━━━━━\u001b[0m \u001b[32m1.7/1.7 MB\u001b[0m \u001b[31m65.7 MB/s\u001b[0m eta \u001b[36m0:00:00\u001b[0m\n",
      "\u001b[?25hDownloading tensorboard-2.14.1-py3-none-any.whl (5.5 MB)\n",
      "\u001b[2K   \u001b[90m━━━━━━━━━━━━━━━━━━━━━━━━━━━━━━━━━━━━━━━━\u001b[0m \u001b[32m5.5/5.5 MB\u001b[0m \u001b[31m89.5 MB/s\u001b[0m eta \u001b[36m0:00:00\u001b[0m:00:01\u001b[0m\n",
      "\u001b[?25hDownloading tensorflow_estimator-2.14.0-py2.py3-none-any.whl (440 kB)\n",
      "\u001b[2K   \u001b[90m━━━━━━━━━━━━━━━━━━━━━━━━━━━━━━━━━━━━━━━━\u001b[0m \u001b[32m440.7/440.7 kB\u001b[0m \u001b[31m36.5 MB/s\u001b[0m eta \u001b[36m0:00:00\u001b[0m\n",
      "\u001b[?25hInstalling collected packages: wrapt, tensorflow-estimator, ml-dtypes, keras, tensorboard, tensorflow\n",
      "  Attempting uninstall: wrapt\n",
      "    Found existing installation: wrapt 1.15.0\n",
      "    Uninstalling wrapt-1.15.0:\n",
      "      Successfully uninstalled wrapt-1.15.0\n",
      "  Attempting uninstall: tensorflow-estimator\n",
      "    Found existing installation: tensorflow-estimator 2.13.0\n",
      "    Uninstalling tensorflow-estimator-2.13.0:\n",
      "      Successfully uninstalled tensorflow-estimator-2.13.0\n",
      "  Attempting uninstall: ml-dtypes\n",
      "    Found existing installation: ml-dtypes 0.3.1\n",
      "    Uninstalling ml-dtypes-0.3.1:\n",
      "      Successfully uninstalled ml-dtypes-0.3.1\n",
      "  Attempting uninstall: keras\n",
      "    Found existing installation: keras 2.13.1\n",
      "    Uninstalling keras-2.13.1:\n",
      "      Successfully uninstalled keras-2.13.1\n",
      "  Attempting uninstall: tensorboard\n",
      "    Found existing installation: tensorboard 2.13.0\n",
      "    Uninstalling tensorboard-2.13.0:\n",
      "      Successfully uninstalled tensorboard-2.13.0\n",
      "  Attempting uninstall: tensorflow\n",
      "    Found existing installation: tensorflow 2.13.0\n",
      "    Uninstalling tensorflow-2.13.0:\n",
      "      Successfully uninstalled tensorflow-2.13.0\n",
      "\u001b[31mERROR: pip's dependency resolver does not currently take into account all the packages that are installed. This behaviour is the source of the following dependency conflicts.\n",
      "pymc3 3.11.5 requires numpy<1.22.2,>=1.15.0, but you have numpy 1.24.3 which is incompatible.\n",
      "pymc3 3.11.5 requires scipy<1.8.0,>=1.7.3, but you have scipy 1.11.3 which is incompatible.\n",
      "tensorflow-decision-forests 1.5.0 requires tensorflow~=2.13.0, but you have tensorflow 2.14.0 which is incompatible.\n",
      "tensorflow-text 2.13.0 requires tensorflow<2.14,>=2.13.0; platform_machine != \"arm64\" or platform_system != \"Darwin\", but you have tensorflow 2.14.0 which is incompatible.\n",
      "tensorflowjs 4.12.0 requires packaging~=23.1, but you have packaging 21.3 which is incompatible.\n",
      "tensorstore 0.1.47 requires ml-dtypes>=0.3.1, but you have ml-dtypes 0.2.0 which is incompatible.\u001b[0m\u001b[31m\n",
      "\u001b[0mSuccessfully installed keras-2.14.0 ml-dtypes-0.2.0 tensorboard-2.14.1 tensorflow-2.14.0 tensorflow-estimator-2.14.0 wrapt-1.14.1\n"
     ]
    }
   ],
   "source": [
    "!pip install -U tensorflow==2.14.0"
   ]
  },
  {
   "cell_type": "code",
   "execution_count": 1,
   "metadata": {
    "execution": {
     "iopub.execute_input": "2023-11-14T19:59:34.369564Z",
     "iopub.status.busy": "2023-11-14T19:59:34.369164Z",
     "iopub.status.idle": "2023-11-14T19:59:34.381606Z",
     "shell.execute_reply": "2023-11-14T19:59:34.380740Z",
     "shell.execute_reply.started": "2023-11-14T19:59:34.369531Z"
    },
    "id": "BOiSXjlL1b3N"
   },
   "outputs": [],
   "source": [
    "# Fix randomness and hide warnings\n",
    "seed = 42\n",
    "\n",
    "import os\n",
    "os.environ['TF_CPP_MIN_LOG_LEVEL'] = '3'\n",
    "os.environ['PYTHONHASHSEED'] = str(seed)\n",
    "os.environ['MPLCONFIGDIR'] = os.getcwd()+'/configs/'\n",
    "\n",
    "import warnings\n",
    "warnings.simplefilter(action='ignore', category=FutureWarning)\n",
    "warnings.simplefilter(action='ignore', category=Warning)\n",
    "\n",
    "import numpy as np\n",
    "np.random.seed(seed)\n",
    "\n",
    "import logging\n",
    "\n",
    "import random\n",
    "random.seed(seed)"
   ]
  },
  {
   "cell_type": "code",
   "execution_count": 2,
   "metadata": {
    "execution": {
     "iopub.execute_input": "2023-11-14T19:59:36.386291Z",
     "iopub.status.busy": "2023-11-14T19:59:36.385434Z",
     "iopub.status.idle": "2023-11-14T19:59:42.288856Z",
     "shell.execute_reply": "2023-11-14T19:59:42.288044Z",
     "shell.execute_reply.started": "2023-11-14T19:59:36.386247Z"
    },
    "id": "Pxvncnbo1b3P",
    "outputId": "2c2e2ab2-633a-4d36-d6ec-74f84e9cb018"
   },
   "outputs": [
    {
     "name": "stdout",
     "output_type": "stream",
     "text": [
      "2.14.0\n"
     ]
    }
   ],
   "source": [
    "# Import tensorflow\n",
    "import tensorflow as tf\n",
    "from tensorflow import keras as tfk\n",
    "from tensorflow.keras import layers as tfkl\n",
    "from tensorflow.keras.applications.convnext import preprocess_input\n",
    "tf.autograph.set_verbosity(0)\n",
    "tf.get_logger().setLevel(logging.ERROR)\n",
    "tf.compat.v1.logging.set_verbosity(tf.compat.v1.logging.ERROR)\n",
    "tf.random.set_seed(seed)\n",
    "tf.compat.v1.set_random_seed(seed)\n",
    "print(tf.__version__)\n",
    "###\n",
    "from tensorflow.keras.preprocessing.image import ImageDataGenerator\n",
    "from sklearn.metrics import accuracy_score, f1_score, precision_score, recall_score, confusion_matrix"
   ]
  },
  {
   "cell_type": "code",
   "execution_count": 3,
   "metadata": {
    "execution": {
     "iopub.execute_input": "2023-11-14T19:59:42.290917Z",
     "iopub.status.busy": "2023-11-14T19:59:42.290383Z",
     "iopub.status.idle": "2023-11-14T19:59:42.475714Z",
     "shell.execute_reply": "2023-11-14T19:59:42.474790Z",
     "shell.execute_reply.started": "2023-11-14T19:59:42.290889Z"
    },
    "id": "diFY76jJ1b3Q"
   },
   "outputs": [],
   "source": [
    "# Import some other useful libraries\n",
    "import pandas as pd\n",
    "from sklearn.model_selection import train_test_split\n",
    "from sklearn.metrics import accuracy_score, f1_score, precision_score, recall_score, confusion_matrix\n",
    "import seaborn as sns\n",
    "import numpy as np\n",
    "import matplotlib.pyplot as plt"
   ]
  },
  {
   "cell_type": "code",
   "execution_count": 4,
   "metadata": {
    "execution": {
     "iopub.execute_input": "2023-11-14T19:59:42.479596Z",
     "iopub.status.busy": "2023-11-14T19:59:42.479281Z",
     "iopub.status.idle": "2023-11-14T19:59:47.325940Z",
     "shell.execute_reply": "2023-11-14T19:59:47.325148Z",
     "shell.execute_reply.started": "2023-11-14T19:59:42.479573Z"
    },
    "id": "_jqbPln41b3R"
   },
   "outputs": [],
   "source": [
    "#dataset_dir = np.load('public_data.npz',allow_pickle=True)\n",
    "dataset_dir = np.load('/kaggle/input/public-data-npz/public_data.npz',allow_pickle=True) #For Kaggle\n",
    "# Access the keys\n",
    "lst = dataset_dir.files\n",
    "images = dataset_dir['data']\n",
    "labels = dataset_dir['labels']\n",
    "\n",
    "# Convert values in data to int\n",
    "images = images.astype(int)"
   ]
  },
  {
   "cell_type": "markdown",
   "metadata": {},
   "source": [
    "---\n",
    "### Clean DataSet( not necessary if you download the dataset directly from GitHub)\n",
    "---"
   ]
  },
  {
   "cell_type": "code",
   "execution_count": 5,
   "metadata": {
    "execution": {
     "iopub.execute_input": "2023-11-14T19:59:47.328097Z",
     "iopub.status.busy": "2023-11-14T19:59:47.327763Z",
     "iopub.status.idle": "2023-11-14T19:59:47.332803Z",
     "shell.execute_reply": "2023-11-14T19:59:47.331861Z",
     "shell.execute_reply.started": "2023-11-14T19:59:47.328072Z"
    }
   },
   "outputs": [],
   "source": [
    "# Save bad images\n",
    "shrek = images[58]\n",
    "trololo = images[338]"
   ]
  },
  {
   "cell_type": "code",
   "execution_count": 6,
   "metadata": {
    "execution": {
     "iopub.execute_input": "2023-11-14T19:59:47.334146Z",
     "iopub.status.busy": "2023-11-14T19:59:47.333875Z",
     "iopub.status.idle": "2023-11-14T19:59:47.599876Z",
     "shell.execute_reply": "2023-11-14T19:59:47.598732Z",
     "shell.execute_reply.started": "2023-11-14T19:59:47.334122Z"
    }
   },
   "outputs": [
    {
     "name": "stdout",
     "output_type": "stream",
     "text": [
      "There are  98  shrek images\n",
      "and  98  trololo images.\n"
     ]
    }
   ],
   "source": [
    "# Create the mask for bad images\n",
    "shrek_mask = np.all(images == shrek, axis=(1, 2, 3))\n",
    "unique_shrek, count_shrek = np.unique(shrek_mask, return_counts= True)\n",
    "print(\"There are \", count_shrek[1], \" shrek images\")\n",
    "\n",
    "trololo_mask = np.all(images == trololo, axis=(1, 2, 3))\n",
    "unique_trololo, count_trololo = np.unique(trololo_mask, return_counts= True)\n",
    "print(\"and \", count_trololo[1], \" trololo images.\")\n",
    "\n",
    "mask_bad = np.logical_or(shrek_mask, trololo_mask)"
   ]
  },
  {
   "cell_type": "code",
   "execution_count": 7,
   "metadata": {
    "execution": {
     "iopub.execute_input": "2023-11-14T19:59:47.978050Z",
     "iopub.status.busy": "2023-11-14T19:59:47.977145Z",
     "iopub.status.idle": "2023-11-14T19:59:48.353900Z",
     "shell.execute_reply": "2023-11-14T19:59:48.352903Z",
     "shell.execute_reply.started": "2023-11-14T19:59:47.978017Z"
    }
   },
   "outputs": [
    {
     "name": "stdout",
     "output_type": "stream",
     "text": [
      "There are  5004  leaves images.\n"
     ]
    }
   ],
   "source": [
    "# Delete bad images\n",
    "images_leaves = images[np.logical_not(mask_bad)]\n",
    "labels_leaves = labels[np.logical_not(mask_bad)]\n",
    "print(\"There are \", len(images_leaves), \" leaves images.\")"
   ]
  },
  {
   "cell_type": "code",
   "execution_count": 8,
   "metadata": {
    "execution": {
     "iopub.execute_input": "2023-11-14T19:59:48.356002Z",
     "iopub.status.busy": "2023-11-14T19:59:48.355697Z",
     "iopub.status.idle": "2023-11-14T20:00:00.747393Z",
     "shell.execute_reply": "2023-11-14T20:00:00.746439Z",
     "shell.execute_reply.started": "2023-11-14T19:59:48.355976Z"
    }
   },
   "outputs": [
    {
     "name": "stdout",
     "output_type": "stream",
     "text": [
      "There are  4850  unique images.\n"
     ]
    }
   ],
   "source": [
    "# Find unique images\n",
    "unique_images, indices_unique_images, count_unique_images = np.unique(images_leaves, return_index= True, return_counts= True, axis= 0)\n",
    "print(\"There are \",len(count_unique_images), \" unique images.\")\n",
    "images_unique = images_leaves[indices_unique_images]\n",
    "labels_unique = labels_leaves[indices_unique_images]"
   ]
  },
  {
   "cell_type": "code",
   "execution_count": 9,
   "metadata": {
    "execution": {
     "iopub.execute_input": "2023-11-14T20:00:00.749987Z",
     "iopub.status.busy": "2023-11-14T20:00:00.749582Z",
     "iopub.status.idle": "2023-11-14T20:00:00.758016Z",
     "shell.execute_reply": "2023-11-14T20:00:00.756685Z",
     "shell.execute_reply.started": "2023-11-14T20:00:00.749949Z"
    }
   },
   "outputs": [],
   "source": [
    "# Release memory\n",
    "#del data\n",
    "del images\n",
    "del labels\n",
    "del images_leaves\n",
    "del labels_leaves"
   ]
  },
  {
   "cell_type": "code",
   "execution_count": 10,
   "metadata": {
    "execution": {
     "iopub.execute_input": "2023-11-14T20:00:00.759782Z",
     "iopub.status.busy": "2023-11-14T20:00:00.759391Z",
     "iopub.status.idle": "2023-11-14T20:00:00.782830Z",
     "shell.execute_reply": "2023-11-14T20:00:00.781963Z",
     "shell.execute_reply.started": "2023-11-14T20:00:00.759750Z"
    }
   },
   "outputs": [
    {
     "name": "stdout",
     "output_type": "stream",
     "text": [
      "The dataset contains:\n",
      "3060  healthy samples\n",
      "1790  unhealthy samples\n",
      "For a total of  4850  samples\n"
     ]
    }
   ],
   "source": [
    "\n",
    "\n",
    "uniques, count = np.unique(labels_unique, return_counts= True)\n",
    "N_HEALTHY = count[0]\n",
    "N_UNHEALTHY = count[1]\n",
    "N_SAMPLES = N_HEALTHY + N_UNHEALTHY\n",
    "\n",
    "print(\"The dataset contains:\")\n",
    "print(N_HEALTHY, \" healthy samples\")\n",
    "print(N_UNHEALTHY, \" unhealthy samples\")\n",
    "print(\"For a total of \", N_SAMPLES, \" samples\")\n",
    "\n"
   ]
  },
  {
   "cell_type": "code",
   "execution_count": 11,
   "metadata": {
    "execution": {
     "iopub.execute_input": "2023-11-14T20:00:00.785073Z",
     "iopub.status.busy": "2023-11-14T20:00:00.784781Z",
     "iopub.status.idle": "2023-11-14T20:00:00.907860Z",
     "shell.execute_reply": "2023-11-14T20:00:00.906758Z",
     "shell.execute_reply.started": "2023-11-14T20:00:00.785050Z"
    }
   },
   "outputs": [
    {
     "data": {
      "text/plain": [
       "(1790, 96, 96, 3)"
      ]
     },
     "execution_count": 11,
     "metadata": {},
     "output_type": "execute_result"
    }
   ],
   "source": [
    "# Extract the 'unhealthy' images\n",
    "unhealthy_data = images_unique[labels_unique == 'unhealthy']\n",
    "unhealthy_labels = labels_unique[labels_unique == 'unhealthy']\n",
    "unhealthy_data.shape"
   ]
  },
  {
   "cell_type": "code",
   "execution_count": 12,
   "metadata": {
    "execution": {
     "iopub.execute_input": "2023-11-14T20:00:00.909305Z",
     "iopub.status.busy": "2023-11-14T20:00:00.908996Z",
     "iopub.status.idle": "2023-11-14T20:00:00.915904Z",
     "shell.execute_reply": "2023-11-14T20:00:00.914868Z",
     "shell.execute_reply.started": "2023-11-14T20:00:00.909277Z"
    }
   },
   "outputs": [
    {
     "data": {
      "text/plain": [
       "1270"
      ]
     },
     "execution_count": 12,
     "metadata": {},
     "output_type": "execute_result"
    }
   ],
   "source": [
    "# Compute the ratio between healthy/unhealthy\n",
    "DIFF = N_HEALTHY-N_UNHEALTHY\n",
    "DIFF"
   ]
  },
  {
   "cell_type": "code",
   "execution_count": 13,
   "metadata": {
    "execution": {
     "iopub.execute_input": "2023-11-14T20:00:00.917636Z",
     "iopub.status.busy": "2023-11-14T20:00:00.917246Z",
     "iopub.status.idle": "2023-11-14T20:00:09.231019Z",
     "shell.execute_reply": "2023-11-14T20:00:09.230089Z",
     "shell.execute_reply.started": "2023-11-14T20:00:00.917609Z"
    }
   },
   "outputs": [],
   "source": [
    "# Increase the number of unhealthy by rotating images\n",
    "from tensorflow.image import rot90\n",
    "\n",
    "new_unhealthy_data = np.empty((0, 96, 96, 3))\n",
    "\n",
    "for i in range(DIFF):\n",
    "    image_idx = random.randint(0, N_UNHEALTHY-1)\n",
    "    rotation_angle = tf.random.uniform(shape=[], minval=-45, maxval=45, dtype=tf.float32)\n",
    "    rotated_image = rot90(unhealthy_data[image_idx], k=tf.cast(rotation_angle / 45, dtype=tf.int32))\n",
    "    rotated_image = tf.expand_dims(rotated_image, axis=0)\n",
    "    new_unhealthy_data = tf.concat([new_unhealthy_data, rotated_image], axis=0)"
   ]
  },
  {
   "cell_type": "code",
   "execution_count": 14,
   "metadata": {
    "execution": {
     "iopub.execute_input": "2023-11-14T20:00:09.232519Z",
     "iopub.status.busy": "2023-11-14T20:00:09.232229Z",
     "iopub.status.idle": "2023-11-14T20:00:09.237880Z",
     "shell.execute_reply": "2023-11-14T20:00:09.236715Z",
     "shell.execute_reply.started": "2023-11-14T20:00:09.232494Z"
    }
   },
   "outputs": [],
   "source": [
    "# Add label for new unhealthy images\n",
    "new_unhealthy_labels = np.array(['unhealthy'] * (DIFF))"
   ]
  },
  {
   "cell_type": "code",
   "execution_count": 15,
   "metadata": {
    "execution": {
     "iopub.execute_input": "2023-11-14T20:00:09.239374Z",
     "iopub.status.busy": "2023-11-14T20:00:09.239033Z",
     "iopub.status.idle": "2023-11-14T20:00:12.044161Z",
     "shell.execute_reply": "2023-11-14T20:00:12.043365Z",
     "shell.execute_reply.started": "2023-11-14T20:00:09.239336Z"
    }
   },
   "outputs": [],
   "source": [
    "# Add new images to dataset\n",
    "X = tf.concat([unique_images, new_unhealthy_data], axis=0)\n",
    "y = tf.concat([labels_unique, new_unhealthy_labels], axis=0)\n",
    "\n",
    "# Shuffle the data\n",
    "idxs = np.array(range(len(y)))\n",
    "random.shuffle(idxs)\n",
    "\n",
    "X = np.array(tf.gather(X, idxs))\n",
    "y = np.array(tf.gather(y, idxs))"
   ]
  },
  {
   "cell_type": "code",
   "execution_count": 16,
   "metadata": {
    "execution": {
     "iopub.execute_input": "2023-11-14T20:00:12.047757Z",
     "iopub.status.busy": "2023-11-14T20:00:12.047037Z",
     "iopub.status.idle": "2023-11-14T20:00:12.055973Z",
     "shell.execute_reply": "2023-11-14T20:00:12.054975Z",
     "shell.execute_reply.started": "2023-11-14T20:00:12.047691Z"
    }
   },
   "outputs": [],
   "source": [
    "del unhealthy_data\n",
    "del unhealthy_labels\n",
    "del new_unhealthy_data, new_unhealthy_labels"
   ]
  },
  {
   "cell_type": "markdown",
   "metadata": {
    "id": "jQgNWgsS1b3R"
   },
   "source": [
    "### Create train and validation sets"
   ]
  },
  {
   "cell_type": "code",
   "execution_count": 17,
   "metadata": {
    "execution": {
     "iopub.execute_input": "2023-11-14T20:00:12.057771Z",
     "iopub.status.busy": "2023-11-14T20:00:12.057418Z",
     "iopub.status.idle": "2023-11-14T20:00:13.075415Z",
     "shell.execute_reply": "2023-11-14T20:00:13.074636Z",
     "shell.execute_reply.started": "2023-11-14T20:00:12.057743Z"
    },
    "id": "AU5AMMrS1b3S"
   },
   "outputs": [],
   "source": [
    "# Normalize data to the range [0, 1]\n",
    "X_train_val = (X / 255).astype('float32')\n",
    "\n",
    "# Create a mapping from label string to values\n",
    "map = {'healthy':0 , 'unhealthy':1}\n",
    "\n",
    "# Map labels from string to the corresponding encoding\n",
    "int_labels = np.array([map[label.decode()] for label in y])\n",
    "\n",
    "# Convert labels to categorical format using one-hot encoding\n",
    "y_train_val = tfk.utils.to_categorical(int_labels)\n",
    "\n",
    "\n",
    "# Split data into training and validation sets, maintaining class distribution\n",
    "X_train, X_val, y_train, y_val = train_test_split(X_train_val, y_train_val, random_state=seed, test_size=0.1, stratify=y_train_val)\n",
    "\n",
    "del X_train_val, y_train_val"
   ]
  },
  {
   "cell_type": "markdown",
   "metadata": {},
   "source": [
    "---\n",
    "### Data Pre-Processing like MoblieNetV2\n",
    "---"
   ]
  },
  {
   "cell_type": "markdown",
   "metadata": {},
   "source": [
    "In this section, we introduce a distinctive approach to data augmentation, deviating from the conventional use of the augmentation layer from the TensorFlow Keras library. Instead, we have implemented a custom data augmentation pipeline utilizing the ImageDataGenerator with two distinct folders dedicated to the training set and the validation set."
   ]
  },
  {
   "cell_type": "markdown",
   "metadata": {},
   "source": [
    "Gaussian Noise Addition\n",
    "\n",
    "To inject variability into the training dataset, we have implemented a custom class for adding random Gaussian noise to input images. This stochastic process introduces subtle variations in pixel values, promoting a more robust learning experience for the model. The randomness of the noise aids in simulating real-world scenarios where images may exhibit imperceptible fluctuations.\n",
    "\n",
    "Geometric Augmentation with Crop\n",
    "\n",
    "Complementing the Gaussian noise addition, we have devised a class that incorporates a sequence of geometric augmentations centered around cropping. This sequence includes operations such as rotation, scaling, and flipping, resulting in diverse perspectives of the input images. The crop operation, in particular, introduces variability in spatial composition, challenging the model to generalize effectively."
   ]
  },
  {
   "cell_type": "code",
   "execution_count": 29,
   "metadata": {
    "execution": {
     "iopub.execute_input": "2023-11-14T20:21:43.813293Z",
     "iopub.status.busy": "2023-11-14T20:21:43.812934Z",
     "iopub.status.idle": "2023-11-14T20:21:43.824015Z",
     "shell.execute_reply": "2023-11-14T20:21:43.823078Z",
     "shell.execute_reply.started": "2023-11-14T20:21:43.813265Z"
    }
   },
   "outputs": [],
   "source": [
    "import numpy as np\n",
    "from tensorflow.keras.applications.convnext import preprocess_input\n",
    "from tensorflow.keras.layers import Layer\n",
    "\n",
    "def random_erasing(img):\n",
    "    p = 0.3  # Probability of applying the erasing operation\n",
    "    s_l = 0.02  # Minimum area of the erased rectangle relative to the total area of the image\n",
    "    s_h = 0.4  # Maximum area of the erased rectangle relative to the total area of the image\n",
    "    r_1 = 0.3  # Minimum length/width ratio of the erased rectangle\n",
    "    r_2 = 1 / r_1  # Maximum length/width ratio of the erased rectangle\n",
    "\n",
    "    if np.random.rand() < p:\n",
    "        img_area = img.shape[0] * img.shape[1]\n",
    "\n",
    "        target_area = np.random.uniform(s_l, s_h) * img_area\n",
    "        aspect_ratio = np.random.uniform(r_1, r_2)\n",
    "\n",
    "        h = int(round(np.sqrt(target_area * aspect_ratio)))\n",
    "        w = int(round(np.sqrt(target_area / aspect_ratio)))\n",
    "\n",
    "        if w < img.shape[1] and h < img.shape[0]:\n",
    "            x = np.random.randint(0, img.shape[0] - h + 1)\n",
    "            y = np.random.randint(0, img.shape[1] - w + 1)\n",
    "            img[x:x+h, y:y+w, :] = np.random.uniform(0, 255, (h, w, img.shape[2]))\n",
    "\n",
    "    return img\n",
    "\n",
    "# Preprocessing function that applies Random Erasing, Gaussian Noise, and the preprocessing of MobileNetV2\n",
    "def preprocess_image(image):\n",
    "    # Apply Random Erasing\n",
    "    image = random_erasing(image)\n",
    "\n",
    "    # Add Gaussian Noise with a probability of 0.3 (you can adjust the probability)\n",
    "    if np.random.rand() < 0.3:\n",
    "        noise = np.random.normal(loc=0, scale=9, size=image.shape)\n",
    "        image = image + noise\n",
    "\n",
    "    # Apply ConNeXtTiny preprocessing\n",
    "    image = preprocess_input(image)\n",
    "\n",
    "    return image\n"
   ]
  },
  {
   "cell_type": "code",
   "execution_count": 28,
   "metadata": {
    "execution": {
     "iopub.execute_input": "2023-11-14T20:21:40.275603Z",
     "iopub.status.busy": "2023-11-14T20:21:40.275202Z",
     "iopub.status.idle": "2023-11-14T20:21:40.311435Z",
     "shell.execute_reply": "2023-11-14T20:21:40.310729Z",
     "shell.execute_reply.started": "2023-11-14T20:21:40.275572Z"
    }
   },
   "outputs": [
    {
     "name": "stdout",
     "output_type": "stream",
     "text": [
      "Found 612 images belonging to 2 classes.\n"
     ]
    }
   ],
   "source": [
    "home_path = '/kaggle/input/train-dataset' #For Kaggle\n",
    "home_path_valid = '/kaggle/input/valid-set'\n",
    "training_dir = os.path.join(home_path, 'train')\n",
    "validation_dir = os.path.join(home_path_valid, 'valid')\n",
    "\n",
    "valid_data_gen = ImageDataGenerator( preprocessing_function=preprocess_input)\n",
    "valid_gen = valid_data_gen.flow_from_directory(directory=validation_dir,\n",
    "                                               target_size=(96,96),\n",
    "                                               color_mode='rgb',\n",
    "                                               classes=None, # can be set to labels\n",
    "                                               class_mode='categorical',\n",
    "                                               batch_size=32,#32\n",
    "                                               shuffle=True,\n",
    "                                               seed=seed)"
   ]
  },
  {
   "cell_type": "code",
   "execution_count": 30,
   "metadata": {
    "execution": {
     "iopub.execute_input": "2023-11-14T20:21:45.763219Z",
     "iopub.status.busy": "2023-11-14T20:21:45.762396Z",
     "iopub.status.idle": "2023-11-14T20:21:46.090779Z",
     "shell.execute_reply": "2023-11-14T20:21:46.090011Z",
     "shell.execute_reply.started": "2023-11-14T20:21:45.763185Z"
    }
   },
   "outputs": [
    {
     "name": "stdout",
     "output_type": "stream",
     "text": [
      "Found 5508 images belonging to 2 classes.\n"
     ]
    }
   ],
   "source": [
    "aug_train_data_gen = ImageDataGenerator(\n",
    "                                        rotation_range = 45,\n",
    "                                        shear_range=0.2,\n",
    "                                        width_shift_range = 0.2,\n",
    "                                        zoom_range=[0.5,1.4],\n",
    "                                        vertical_flip = True,\n",
    "                                        horizontal_flip = True,\n",
    "                                        brightness_range=[0.8, 1.7],\n",
    "                                        fill_mode='reflect',\n",
    "                                        preprocessing_function=preprocess_image\n",
    "                                        )\n",
    "# Obtain a data generator with the 'ImageDataGenerator.flow_from_directory' method\n",
    "aug_train_gen = aug_train_data_gen.flow_from_directory(directory=training_dir,\n",
    "                                                       target_size=(96,96),\n",
    "                                                       color_mode='rgb',\n",
    "                                                       classes=None, # can be set to labels\n",
    "                                                       class_mode='categorical',\n",
    "                                                       batch_size=32,#32\n",
    "                                                       shuffle=True,\n",
    "                                                       seed=seed)"
   ]
  },
  {
   "cell_type": "code",
   "execution_count": 31,
   "metadata": {
    "execution": {
     "iopub.execute_input": "2023-11-14T20:21:49.502389Z",
     "iopub.status.busy": "2023-11-14T20:21:49.501514Z",
     "iopub.status.idle": "2023-11-14T20:21:51.907227Z",
     "shell.execute_reply": "2023-11-14T20:21:51.906476Z",
     "shell.execute_reply.started": "2023-11-14T20:21:49.502346Z"
    },
    "id": "GHoRJPTw72qJ",
    "outputId": "22a72fcf-b409-442c-cae6-ecc304ab0540"
   },
   "outputs": [],
   "source": [
    "convnext = tf.keras.applications.ConvNeXtTiny(\n",
    "    include_top=False,\n",
    "    weights='imagenet',\n",
    "    input_shape=(96,96,3),\n",
    "    #pooling='avg',\n",
    "    classes=2,\n",
    "    classifier_activation='softmax',\n",
    ")\n",
    "convnext.trainable = False"
   ]
  },
  {
   "cell_type": "markdown",
   "metadata": {},
   "source": [
    "The architecture incorporates the Swish Activation Layer alongside the ReLU activation layer to mitigate the issue of decaying neurons"
   ]
  },
  {
   "cell_type": "code",
   "execution_count": 32,
   "metadata": {
    "execution": {
     "iopub.execute_input": "2023-11-14T20:21:54.727869Z",
     "iopub.status.busy": "2023-11-14T20:21:54.727077Z",
     "iopub.status.idle": "2023-11-14T20:21:54.740128Z",
     "shell.execute_reply": "2023-11-14T20:21:54.739152Z",
     "shell.execute_reply.started": "2023-11-14T20:21:54.727833Z"
    },
    "id": "z_HEU7w574eU"
   },
   "outputs": [],
   "source": [
    "import keras_cv.layers as kcvl\n",
    "def build_convnext_with_augmentation(input_shape=(96, 96, 3)):\n",
    "    tf.random.set_seed(seed)\n",
    "    \n",
    "    inputs = tfk.Input(shape=input_shape)\n",
    "    #augmentation = img_augmentation(inputs)\n",
    "    #augmented_255 = tf.cast(augmentation* 255, tf.uint8)\n",
    "    \n",
    "    #x1 = convnext(augmented_255)\n",
    "    x1 = convnext(inputs)\n",
    "\n",
    "    x2 = tfkl.GlobalAveragePooling2D(name=\"avg_pool\")(x1)\n",
    "    x3 = tfkl.BatchNormalization()(x2)\n",
    "\n",
    "    # Add a Dense layer with 2 units and softmax activation as the classifier\n",
    "    intermediate1 = tfkl.Dense(64, activation=tf.keras.activations.swish)(x3)\n",
    "    intermediate2 = tfkl.Dense(128, activation=tf.keras.activations.swish)(intermediate1)\n",
    "    intermediate3 = tfkl.Dense(256, activation=tf.keras.activations.swish)(intermediate2)\n",
    "    intermediate4 = tfkl.Dense(512, activation=tf.keras.activations.swish)(intermediate3)\n",
    "    intermediate5 = tfkl.Dense(256, activation=tf.keras.activations.swish)(intermediate4)\n",
    "    intermediate6 = tfkl.Dense(64, activation=tf.keras.activations.swish)(intermediate5)\n",
    "    intermediate7 = tfkl.Dense(32, activation=tf.keras.activations.swish)(intermediate6)\n",
    "    intermediate8 = tfkl.Dense(8, activation=tf.keras.activations.swish)(intermediate7)\n",
    "    \n",
    "    outputs = tfkl.Dense(2, activation='softmax')(intermediate8)\n",
    "\n",
    "    # Create a Model connecting input and output\n",
    "    model = tfk.Model(inputs=inputs, outputs=outputs, name='model')\n",
    "\n",
    "    # Compile the model with Categorical Cross-Entropy loss and Adam optimizer\n",
    "    #optimizer = tf.keras.optimizers.Adam(learning_rate=1e-4)\n",
    "    #optimizer=tfk.optimizers.experimental.SGD(learning_rate=0.001,momentum=0.9)\n",
    "    optimizer=tfk.optimizers.Lion(learning_rate=0.0001)\n",
    "    model.compile(loss=tfk.losses.CategoricalCrossentropy(), optimizer=optimizer, metrics=['accuracy'])\n",
    "\n",
    "    # Return the model\n",
    "    return model"
   ]
  },
  {
   "cell_type": "code",
   "execution_count": 33,
   "metadata": {
    "execution": {
     "iopub.execute_input": "2023-11-14T20:21:55.670186Z",
     "iopub.status.busy": "2023-11-14T20:21:55.669347Z",
     "iopub.status.idle": "2023-11-14T20:21:55.675572Z",
     "shell.execute_reply": "2023-11-14T20:21:55.674379Z",
     "shell.execute_reply.started": "2023-11-14T20:21:55.670152Z"
    }
   },
   "outputs": [],
   "source": [
    "from tensorflow.keras.callbacks import LearningRateScheduler\n",
    "\n",
    "def lr_scheduler(epoch, lr):\n",
    "    if epoch < 15:\n",
    "        return lr  \n",
    "    else:\n",
    "        return lr * tf.math.exp(-0.1)  \n",
    "    \n",
    "lr_schedule = LearningRateScheduler(lr_scheduler)"
   ]
  },
  {
   "cell_type": "code",
   "execution_count": 34,
   "metadata": {
    "execution": {
     "iopub.execute_input": "2023-11-14T20:22:00.363558Z",
     "iopub.status.busy": "2023-11-14T20:22:00.363177Z",
     "iopub.status.idle": "2023-11-14T20:40:36.554543Z",
     "shell.execute_reply": "2023-11-14T20:40:36.553531Z",
     "shell.execute_reply.started": "2023-11-14T20:22:00.363530Z"
    }
   },
   "outputs": [
    {
     "name": "stdout",
     "output_type": "stream",
     "text": [
      "Epoch 1/100\n",
      "173/173 [==============================] - 47s 200ms/step - loss: 0.6046 - accuracy: 0.6716 - val_loss: 0.5517 - val_accuracy: 0.7190 - lr: 1.0000e-04\n",
      "Epoch 2/100\n",
      "173/173 [==============================] - 29s 167ms/step - loss: 0.5043 - accuracy: 0.7484 - val_loss: 0.5567 - val_accuracy: 0.7075 - lr: 1.0000e-04\n",
      "Epoch 3/100\n",
      "173/173 [==============================] - 29s 166ms/step - loss: 0.4665 - accuracy: 0.7752 - val_loss: 0.4803 - val_accuracy: 0.7549 - lr: 1.0000e-04\n",
      "Epoch 4/100\n",
      "173/173 [==============================] - 29s 168ms/step - loss: 0.4468 - accuracy: 0.7901 - val_loss: 0.4303 - val_accuracy: 0.7810 - lr: 1.0000e-04\n",
      "Epoch 5/100\n",
      "173/173 [==============================] - 29s 168ms/step - loss: 0.4363 - accuracy: 0.7928 - val_loss: 0.4519 - val_accuracy: 0.7712 - lr: 1.0000e-04\n",
      "Epoch 6/100\n",
      "173/173 [==============================] - 29s 168ms/step - loss: 0.4294 - accuracy: 0.7961 - val_loss: 0.4402 - val_accuracy: 0.7663 - lr: 1.0000e-04\n",
      "Epoch 7/100\n",
      "173/173 [==============================] - 29s 167ms/step - loss: 0.4119 - accuracy: 0.8115 - val_loss: 0.4168 - val_accuracy: 0.7925 - lr: 1.0000e-04\n",
      "Epoch 8/100\n",
      "173/173 [==============================] - 29s 167ms/step - loss: 0.4143 - accuracy: 0.8085 - val_loss: 0.4286 - val_accuracy: 0.7958 - lr: 1.0000e-04\n",
      "Epoch 9/100\n",
      "173/173 [==============================] - 29s 165ms/step - loss: 0.4077 - accuracy: 0.8066 - val_loss: 0.4317 - val_accuracy: 0.7827 - lr: 1.0000e-04\n",
      "Epoch 10/100\n",
      "173/173 [==============================] - 29s 166ms/step - loss: 0.4081 - accuracy: 0.8103 - val_loss: 0.4750 - val_accuracy: 0.7794 - lr: 1.0000e-04\n",
      "Epoch 11/100\n",
      "173/173 [==============================] - 29s 166ms/step - loss: 0.4014 - accuracy: 0.8164 - val_loss: 0.4546 - val_accuracy: 0.7827 - lr: 1.0000e-04\n",
      "Epoch 12/100\n",
      "173/173 [==============================] - 29s 167ms/step - loss: 0.4042 - accuracy: 0.8117 - val_loss: 0.4222 - val_accuracy: 0.7892 - lr: 1.0000e-04\n",
      "Epoch 13/100\n",
      "173/173 [==============================] - 29s 168ms/step - loss: 0.3964 - accuracy: 0.8161 - val_loss: 0.4132 - val_accuracy: 0.8088 - lr: 1.0000e-04\n",
      "Epoch 14/100\n",
      "173/173 [==============================] - 29s 165ms/step - loss: 0.3982 - accuracy: 0.8125 - val_loss: 0.4210 - val_accuracy: 0.8007 - lr: 1.0000e-04\n",
      "Epoch 15/100\n",
      "173/173 [==============================] - 29s 165ms/step - loss: 0.3756 - accuracy: 0.8362 - val_loss: 0.3875 - val_accuracy: 0.8105 - lr: 1.0000e-04\n",
      "Epoch 16/100\n",
      "173/173 [==============================] - 29s 165ms/step - loss: 0.3736 - accuracy: 0.8315 - val_loss: 0.4150 - val_accuracy: 0.7908 - lr: 9.0484e-05\n",
      "Epoch 17/100\n",
      "173/173 [==============================] - 29s 165ms/step - loss: 0.3698 - accuracy: 0.8359 - val_loss: 0.4043 - val_accuracy: 0.8105 - lr: 8.1873e-05\n",
      "Epoch 18/100\n",
      "173/173 [==============================] - 29s 165ms/step - loss: 0.3563 - accuracy: 0.8384 - val_loss: 0.4104 - val_accuracy: 0.8219 - lr: 7.4082e-05\n",
      "Epoch 19/100\n",
      "173/173 [==============================] - 29s 168ms/step - loss: 0.3659 - accuracy: 0.8319 - val_loss: 0.3910 - val_accuracy: 0.8137 - lr: 6.7032e-05\n",
      "Epoch 20/100\n",
      "173/173 [==============================] - 29s 167ms/step - loss: 0.3703 - accuracy: 0.8270 - val_loss: 0.4002 - val_accuracy: 0.8154 - lr: 6.0653e-05\n",
      "Epoch 21/100\n",
      "173/173 [==============================] - 32s 184ms/step - loss: 0.3491 - accuracy: 0.8428 - val_loss: 0.4194 - val_accuracy: 0.8056 - lr: 5.4881e-05\n",
      "Epoch 22/100\n",
      "173/173 [==============================] - 30s 173ms/step - loss: 0.3572 - accuracy: 0.8375 - val_loss: 0.3860 - val_accuracy: 0.8268 - lr: 4.9659e-05\n",
      "Epoch 23/100\n",
      "173/173 [==============================] - 30s 175ms/step - loss: 0.3465 - accuracy: 0.8424 - val_loss: 0.4155 - val_accuracy: 0.7974 - lr: 4.4933e-05\n",
      "Epoch 24/100\n",
      "173/173 [==============================] - 30s 173ms/step - loss: 0.3493 - accuracy: 0.8435 - val_loss: 0.4043 - val_accuracy: 0.8072 - lr: 4.0657e-05\n",
      "Epoch 25/100\n",
      "173/173 [==============================] - 32s 182ms/step - loss: 0.3350 - accuracy: 0.8544 - val_loss: 0.3795 - val_accuracy: 0.8350 - lr: 3.6788e-05\n",
      "Epoch 26/100\n",
      "173/173 [==============================] - 31s 180ms/step - loss: 0.3407 - accuracy: 0.8435 - val_loss: 0.4056 - val_accuracy: 0.8088 - lr: 3.3287e-05\n",
      "Epoch 27/100\n",
      "173/173 [==============================] - 30s 176ms/step - loss: 0.3308 - accuracy: 0.8519 - val_loss: 0.3635 - val_accuracy: 0.8464 - lr: 3.0119e-05\n",
      "Epoch 28/100\n",
      "173/173 [==============================] - 30s 175ms/step - loss: 0.3366 - accuracy: 0.8437 - val_loss: 0.3380 - val_accuracy: 0.8464 - lr: 2.7253e-05\n",
      "Epoch 29/100\n",
      "173/173 [==============================] - 31s 178ms/step - loss: 0.3304 - accuracy: 0.8500 - val_loss: 0.3655 - val_accuracy: 0.8366 - lr: 2.4660e-05\n",
      "Epoch 30/100\n",
      "173/173 [==============================] - 30s 173ms/step - loss: 0.3402 - accuracy: 0.8455 - val_loss: 0.3537 - val_accuracy: 0.8333 - lr: 2.2313e-05\n",
      "Epoch 31/100\n",
      "173/173 [==============================] - 30s 175ms/step - loss: 0.3229 - accuracy: 0.8533 - val_loss: 0.3746 - val_accuracy: 0.8284 - lr: 2.0190e-05\n",
      "Epoch 32/100\n",
      "173/173 [==============================] - 30s 174ms/step - loss: 0.3191 - accuracy: 0.8562 - val_loss: 0.4306 - val_accuracy: 0.8023 - lr: 1.8268e-05\n",
      "Epoch 33/100\n",
      "173/173 [==============================] - 30s 176ms/step - loss: 0.3153 - accuracy: 0.8606 - val_loss: 0.3783 - val_accuracy: 0.8301 - lr: 1.6530e-05\n",
      "Epoch 34/100\n",
      "173/173 [==============================] - 30s 174ms/step - loss: 0.3244 - accuracy: 0.8542 - val_loss: 0.4077 - val_accuracy: 0.8252 - lr: 1.4957e-05\n",
      "Epoch 35/100\n",
      "173/173 [==============================] - 30s 176ms/step - loss: 0.3313 - accuracy: 0.8548 - val_loss: 0.3655 - val_accuracy: 0.8366 - lr: 1.3534e-05\n",
      "Epoch 36/100\n",
      "173/173 [==============================] - 30s 174ms/step - loss: 0.3313 - accuracy: 0.8524 - val_loss: 0.3862 - val_accuracy: 0.8317 - lr: 1.2246e-05\n",
      "Epoch 37/100\n",
      "173/173 [==============================] - 31s 178ms/step - loss: 0.3260 - accuracy: 0.8515 - val_loss: 0.3723 - val_accuracy: 0.8350 - lr: 1.1080e-05\n"
     ]
    }
   ],
   "source": [
    "tl_model = build_convnext_with_augmentation()\n",
    "\n",
    "tl_history = tl_model.fit(\n",
    "    aug_train_gen,\n",
    "    epochs=100,\n",
    "    validation_data= valid_gen,\n",
    "    verbose = 1,\n",
    "    callbacks = [tfk.callbacks.EarlyStopping(monitor='val_accuracy', mode='max', patience=10, restore_best_weights=True) , lr_schedule ]\n",
    ").history"
   ]
  },
  {
   "cell_type": "code",
   "execution_count": 35,
   "metadata": {
    "execution": {
     "iopub.execute_input": "2023-11-14T20:40:36.557699Z",
     "iopub.status.busy": "2023-11-14T20:40:36.556586Z",
     "iopub.status.idle": "2023-11-14T20:40:37.305189Z",
     "shell.execute_reply": "2023-11-14T20:40:37.304354Z",
     "shell.execute_reply.started": "2023-11-14T20:40:36.557658Z"
    }
   },
   "outputs": [
    {
     "data": {
      "image/png": "[encoded data removed]",
      "text/plain": [
       "<Figure size 1200x600 with 2 Axes>"
      ]
     },
     "metadata": {},
     "output_type": "display_data"
    }
   ],
   "source": [
    "plt.figure(figsize=(12, 6))\n",
    "\n",
    "# Plotting accuracy\n",
    "plt.subplot(1, 2, 1)\n",
    "plt.plot(tl_history['accuracy'], label='Training Accuracy')\n",
    "plt.plot(tl_history['val_accuracy'], label='Validation Accuracy')\n",
    "plt.title('Training and Validation Accuracy')\n",
    "plt.xlabel('Epoch')\n",
    "plt.ylabel('Accuracy')\n",
    "plt.legend()\n",
    "\n",
    "# Plotting loss\n",
    "plt.subplot(1, 2, 2)\n",
    "plt.plot(tl_history['loss'], label='Training Loss')\n",
    "plt.plot(tl_history['val_loss'], label='Validation Loss')\n",
    "plt.title('Training and Validation Loss')\n",
    "plt.xlabel('Epoch')\n",
    "plt.ylabel('Loss')\n",
    "plt.legend()\n",
    "\n",
    "plt.tight_layout()\n",
    "plt.show()"
   ]
  },
  {
   "cell_type": "code",
   "execution_count": null,
   "metadata": {},
   "outputs": [],
   "source": [
    "import shutil\n",
    "shutil.rmtree(\"/kaggle/working/convnext_TL2\")\n"
   ]
  },
  {
   "cell_type": "code",
   "execution_count": null,
   "metadata": {},
   "outputs": [],
   "source": [
    "shutil.rmtree(\"/kaggle/working/convnext_FTall2\")"
   ]
  },
  {
   "cell_type": "code",
   "execution_count": 36,
   "metadata": {
    "execution": {
     "iopub.execute_input": "2023-11-14T20:40:37.306559Z",
     "iopub.status.busy": "2023-11-14T20:40:37.306236Z",
     "iopub.status.idle": "2023-11-14T20:40:55.436875Z",
     "shell.execute_reply": "2023-11-14T20:40:55.435831Z",
     "shell.execute_reply.started": "2023-11-14T20:40:37.306523Z"
    }
   },
   "outputs": [
    {
     "name": "stdout",
     "output_type": "stream",
     "text": [
      "Finished training of convnext_TL2 model\n"
     ]
    }
   ],
   "source": [
    "model_name = 'convnext_TL2'\n",
    "print(\"Finished training of\", model_name, \"model\")\n",
    "tl_model.save(model_name, save_format='tf')"
   ]
  },
  {
   "cell_type": "code",
   "execution_count": null,
   "metadata": {},
   "outputs": [],
   "source": [
    "val_loss = []\n",
    "val_accuracy = []\n",
    "train_loss = []\n",
    "train_accuracy = []\n",
    "\n",
    "last_val_loss, last_val_accuracy = tl_model.evaluate(X_val, y_val)\n",
    "last_train_loss, last_train_accuracy = tl_model.evaluate(X_train, y_train)\n",
    "\n",
    "val_loss.append(last_val_loss)\n",
    "val_accuracy.append(last_val_accuracy)\n",
    "train_loss.append(last_train_loss)\n",
    "train_accuracy.append(last_train_accuracy)\n",
    "\n",
    "best_val_accuracy = last_val_accuracy\n",
    "best_model = model_name\n",
    "\n",
    "print(\"Last model has reached\")\n",
    "print(\"Train loss: \", last_train_loss)\n",
    "print(\"Train accuracy: \", last_train_accuracy)\n",
    "print(\"Validation loss: \", last_val_loss)\n",
    "print(\"Validation accuracy: \", last_val_accuracy)"
   ]
  },
  {
   "cell_type": "markdown",
   "metadata": {},
   "source": [
    "# Fine Tuning - all"
   ]
  },
  {
   "cell_type": "code",
   "execution_count": 37,
   "metadata": {
    "execution": {
     "iopub.execute_input": "2023-11-14T20:40:55.442212Z",
     "iopub.status.busy": "2023-11-14T20:40:55.441915Z",
     "iopub.status.idle": "2023-11-14T20:40:55.454806Z",
     "shell.execute_reply": "2023-11-14T20:40:55.453736Z",
     "shell.execute_reply.started": "2023-11-14T20:40:55.442186Z"
    }
   },
   "outputs": [
    {
     "name": "stdout",
     "output_type": "stream",
     "text": [
      "Successful!\n"
     ]
    }
   ],
   "source": [
    "# Set all layers as trainable\n",
    "tl_model.trainable = True\n",
    "\n",
    "if all(layer.trainable for layer in tl_model.layers):\n",
    "    print(\"Successful!\")\n",
    "else:\n",
    "    print(\"Error!\")"
   ]
  },
  {
   "cell_type": "code",
   "execution_count": 38,
   "metadata": {
    "execution": {
     "iopub.execute_input": "2023-11-14T20:40:55.456890Z",
     "iopub.status.busy": "2023-11-14T20:40:55.456162Z",
     "iopub.status.idle": "2023-11-14T20:40:55.468455Z",
     "shell.execute_reply": "2023-11-14T20:40:55.467433Z",
     "shell.execute_reply.started": "2023-11-14T20:40:55.456855Z"
    }
   },
   "outputs": [],
   "source": [
    "from tensorflow.keras.callbacks import LearningRateScheduler\n",
    "\n",
    "def lr_scheduler(epoch, lr):\n",
    "    if epoch < 10:\n",
    "        return lr  \n",
    "    else:\n",
    "        return lr * tf.math.exp(-0.1) "
   ]
  },
  {
   "cell_type": "code",
   "execution_count": 39,
   "metadata": {
    "execution": {
     "iopub.execute_input": "2023-11-14T20:40:55.588914Z",
     "iopub.status.busy": "2023-11-14T20:40:55.586641Z",
     "iopub.status.idle": "2023-11-14T20:40:55.606408Z",
     "shell.execute_reply": "2023-11-14T20:40:55.605654Z",
     "shell.execute_reply.started": "2023-11-14T20:40:55.588888Z"
    }
   },
   "outputs": [],
   "source": [
    "tl_model.compile(loss=tfk.losses.CategoricalCrossentropy(), optimizer=tfk.optimizers.Lion(), metrics='accuracy')\n",
    "\n",
    "lr_schedule = LearningRateScheduler(lr_scheduler)"
   ]
  },
  {
   "cell_type": "code",
   "execution_count": 40,
   "metadata": {
    "execution": {
     "iopub.execute_input": "2023-11-14T20:40:55.607683Z",
     "iopub.status.busy": "2023-11-14T20:40:55.607423Z",
     "iopub.status.idle": "2023-11-14T20:57:30.900242Z",
     "shell.execute_reply": "2023-11-14T20:57:30.899322Z",
     "shell.execute_reply.started": "2023-11-14T20:40:55.607660Z"
    }
   },
   "outputs": [
    {
     "name": "stdout",
     "output_type": "stream",
     "text": [
      "All layers are training.\n",
      "Epoch 1/200\n",
      "173/173 [==============================] - 67s 214ms/step - loss: 0.4041 - accuracy: 0.8163 - val_loss: 0.4785 - val_accuracy: 0.7582 - lr: 1.0000e-04\n",
      "Epoch 2/200\n",
      "173/173 [==============================] - 32s 186ms/step - loss: 0.3816 - accuracy: 0.8264 - val_loss: 0.4785 - val_accuracy: 0.8203 - lr: 1.0000e-04\n",
      "Epoch 3/200\n",
      "173/173 [==============================] - 32s 184ms/step - loss: 0.3496 - accuracy: 0.8466 - val_loss: 0.4239 - val_accuracy: 0.8301 - lr: 1.0000e-04\n",
      "Epoch 4/200\n",
      "173/173 [==============================] - 33s 188ms/step - loss: 0.3355 - accuracy: 0.8533 - val_loss: 0.3729 - val_accuracy: 0.8268 - lr: 1.0000e-04\n",
      "Epoch 5/200\n",
      "173/173 [==============================] - 32s 185ms/step - loss: 0.2917 - accuracy: 0.8813 - val_loss: 0.3218 - val_accuracy: 0.8497 - lr: 1.0000e-04\n",
      "Epoch 6/200\n",
      "173/173 [==============================] - 32s 185ms/step - loss: 0.2928 - accuracy: 0.8725 - val_loss: 0.3298 - val_accuracy: 0.8660 - lr: 1.0000e-04\n",
      "Epoch 7/200\n",
      "173/173 [==============================] - 32s 185ms/step - loss: 0.2834 - accuracy: 0.8787 - val_loss: 0.4393 - val_accuracy: 0.8170 - lr: 1.0000e-04\n",
      "Epoch 8/200\n",
      "173/173 [==============================] - 32s 186ms/step - loss: 0.2953 - accuracy: 0.8802 - val_loss: 0.3327 - val_accuracy: 0.8611 - lr: 1.0000e-04\n",
      "Epoch 9/200\n",
      "173/173 [==============================] - 32s 184ms/step - loss: 0.2930 - accuracy: 0.8760 - val_loss: 0.3064 - val_accuracy: 0.8546 - lr: 1.0000e-04\n",
      "Epoch 10/200\n",
      "173/173 [==============================] - 32s 184ms/step - loss: 0.2790 - accuracy: 0.8794 - val_loss: 0.3549 - val_accuracy: 0.8562 - lr: 1.0000e-04\n",
      "Epoch 11/200\n",
      "173/173 [==============================] - 32s 185ms/step - loss: 0.2548 - accuracy: 0.8896 - val_loss: 0.2603 - val_accuracy: 0.9052 - lr: 9.0484e-05\n",
      "Epoch 12/200\n",
      "173/173 [==============================] - 32s 185ms/step - loss: 0.2401 - accuracy: 0.9003 - val_loss: 0.2840 - val_accuracy: 0.8693 - lr: 8.1873e-05\n",
      "Epoch 13/200\n",
      "173/173 [==============================] - 33s 189ms/step - loss: 0.2250 - accuracy: 0.9061 - val_loss: 0.2387 - val_accuracy: 0.9003 - lr: 7.4082e-05\n",
      "Epoch 14/200\n",
      "173/173 [==============================] - 39s 227ms/step - loss: 0.2197 - accuracy: 0.9092 - val_loss: 0.1923 - val_accuracy: 0.9232 - lr: 6.7032e-05\n",
      "Epoch 15/200\n",
      "173/173 [==============================] - 32s 187ms/step - loss: 0.2033 - accuracy: 0.9190 - val_loss: 0.2226 - val_accuracy: 0.9183 - lr: 6.0653e-05\n",
      "Epoch 16/200\n",
      "173/173 [==============================] - 32s 185ms/step - loss: 0.1940 - accuracy: 0.9158 - val_loss: 0.2154 - val_accuracy: 0.9134 - lr: 5.4881e-05\n",
      "Epoch 17/200\n",
      "173/173 [==============================] - 33s 189ms/step - loss: 0.1846 - accuracy: 0.9227 - val_loss: 0.2105 - val_accuracy: 0.9314 - lr: 4.9659e-05\n",
      "Epoch 18/200\n",
      "173/173 [==============================] - 32s 187ms/step - loss: 0.1729 - accuracy: 0.9323 - val_loss: 0.2105 - val_accuracy: 0.9265 - lr: 4.4933e-05\n",
      "Epoch 19/200\n",
      "173/173 [==============================] - 32s 183ms/step - loss: 0.1600 - accuracy: 0.9365 - val_loss: 0.2709 - val_accuracy: 0.8922 - lr: 4.0657e-05\n",
      "Epoch 20/200\n",
      "173/173 [==============================] - 31s 177ms/step - loss: 0.1592 - accuracy: 0.9352 - val_loss: 0.1764 - val_accuracy: 0.9510 - lr: 3.6788e-05\n",
      "Epoch 21/200\n",
      "173/173 [==============================] - 30s 174ms/step - loss: 0.1423 - accuracy: 0.9432 - val_loss: 0.1736 - val_accuracy: 0.9477 - lr: 3.3287e-05\n",
      "Epoch 22/200\n",
      "173/173 [==============================] - 30s 172ms/step - loss: 0.1388 - accuracy: 0.9495 - val_loss: 0.1823 - val_accuracy: 0.9477 - lr: 3.0119e-05\n",
      "Epoch 23/200\n",
      "173/173 [==============================] - 30s 173ms/step - loss: 0.1356 - accuracy: 0.9448 - val_loss: 0.2000 - val_accuracy: 0.9330 - lr: 2.7253e-05\n",
      "Epoch 24/200\n",
      "173/173 [==============================] - 30s 173ms/step - loss: 0.1305 - accuracy: 0.9468 - val_loss: 0.2160 - val_accuracy: 0.9297 - lr: 2.4660e-05\n",
      "Epoch 25/200\n",
      "173/173 [==============================] - 30s 173ms/step - loss: 0.1257 - accuracy: 0.9519 - val_loss: 0.2016 - val_accuracy: 0.9428 - lr: 2.2313e-05\n",
      "Epoch 26/200\n",
      "173/173 [==============================] - 30s 170ms/step - loss: 0.1229 - accuracy: 0.9506 - val_loss: 0.1848 - val_accuracy: 0.9395 - lr: 2.0190e-05\n",
      "Epoch 27/200\n",
      "173/173 [==============================] - 30s 172ms/step - loss: 0.1123 - accuracy: 0.9552 - val_loss: 0.1887 - val_accuracy: 0.9428 - lr: 1.8268e-05\n",
      "Epoch 28/200\n",
      "173/173 [==============================] - 30s 174ms/step - loss: 0.1101 - accuracy: 0.9550 - val_loss: 0.2074 - val_accuracy: 0.9493 - lr: 1.6530e-05\n",
      "Epoch 29/200\n",
      "173/173 [==============================] - 30s 174ms/step - loss: 0.0981 - accuracy: 0.9639 - val_loss: 0.1978 - val_accuracy: 0.9510 - lr: 1.4957e-05\n",
      "Epoch 30/200\n",
      "173/173 [==============================] - 30s 175ms/step - loss: 0.0996 - accuracy: 0.9610 - val_loss: 0.1878 - val_accuracy: 0.9428 - lr: 1.3534e-05\n"
     ]
    }
   ],
   "source": [
    "# Train the model\n",
    "print(\"All layers are training.\")\n",
    "tl_history = tl_model.fit_generator(\n",
    "    aug_train_gen,\n",
    "    epochs=200,\n",
    "    validation_data= valid_gen,\n",
    "    callbacks = [tfk.callbacks.EarlyStopping(monitor='val_accuracy', mode='max', patience=10, restore_best_weights=True) , lr_schedule ]\n",
    ").history"
   ]
  },
  {
   "cell_type": "markdown",
   "metadata": {},
   "source": [
    "---\n",
    "### Fine-Tuning By Tommy\n",
    "---"
   ]
  },
  {
   "cell_type": "code",
   "execution_count": null,
   "metadata": {},
   "outputs": [],
   "source": [
    "tl_model.compile(loss=tfk.losses.CategoricalCrossentropy(), optimizer=tfk.optimizers.Adam(5e-5), metrics=['accuracy'])"
   ]
  },
  {
   "cell_type": "code",
   "execution_count": null,
   "metadata": {},
   "outputs": [],
   "source": [
    "# Train the model\n",
    "print(\"All layers are training.\")\n",
    "tl_history = tl_model.fit(\n",
    "    x = X_train, # We need to apply the preprocessing thought for the MobileNetV2 network\n",
    "    y = y_train,\n",
    "    batch_size = 16,\n",
    "    epochs = 20,\n",
    "    validation_data = (X_val, y_val), # We need to apply the preprocessing thought for the MobileNetV2 network\n",
    "    callbacks = [tfk.callbacks.EarlyStopping(monitor='val_accuracy', mode='max', patience=250, restore_best_weights=True)]\n",
    ").history"
   ]
  },
  {
   "cell_type": "markdown",
   "metadata": {},
   "source": [
    "---"
   ]
  },
  {
   "cell_type": "code",
   "execution_count": 44,
   "metadata": {
    "execution": {
     "iopub.execute_input": "2023-11-14T20:57:37.532214Z",
     "iopub.status.busy": "2023-11-14T20:57:37.531936Z",
     "iopub.status.idle": "2023-11-14T20:57:59.128207Z",
     "shell.execute_reply": "2023-11-14T20:57:59.127227Z",
     "shell.execute_reply.started": "2023-11-14T20:57:37.532189Z"
    }
   },
   "outputs": [
    {
     "name": "stdout",
     "output_type": "stream",
     "text": [
      "Finished training of  convnext_FTall2  model\n"
     ]
    }
   ],
   "source": [
    "model_name = 'convnext_FTall2'\n",
    "print(\"Finished training of \", model_name, \" model\")\n",
    "tl_model.save(model_name, save_format = 'tf')"
   ]
  },
  {
   "cell_type": "code",
   "execution_count": 41,
   "metadata": {
    "execution": {
     "iopub.execute_input": "2023-11-14T20:57:30.903228Z",
     "iopub.status.busy": "2023-11-14T20:57:30.902949Z",
     "iopub.status.idle": "2023-11-14T20:57:31.558351Z",
     "shell.execute_reply": "2023-11-14T20:57:31.557356Z",
     "shell.execute_reply.started": "2023-11-14T20:57:30.903204Z"
    }
   },
   "outputs": [
    {
     "data": {
      "image/png": "[encoded data removed]",
      "text/plain": [
       "<Figure size 1200x600 with 2 Axes>"
      ]
     },
     "metadata": {},
     "output_type": "display_data"
    }
   ],
   "source": [
    "plt.figure(figsize=(12, 6))\n",
    "\n",
    "# Plotting accuracy\n",
    "plt.subplot(1, 2, 1)\n",
    "plt.plot(tl_history['accuracy'], label='Training Accuracy')\n",
    "plt.plot(tl_history['val_accuracy'], label='Validation Accuracy')\n",
    "plt.title('Training and Validation Accuracy')\n",
    "plt.xlabel('Epoch')\n",
    "plt.ylabel('Accuracy')\n",
    "plt.legend()\n",
    "\n",
    "# Plotting loss\n",
    "plt.subplot(1, 2, 2)\n",
    "plt.plot(tl_history['loss'], label='Training Loss')\n",
    "plt.plot(tl_history['val_loss'], label='Validation Loss')\n",
    "plt.title('Training and Validation Loss')\n",
    "plt.xlabel('Epoch')\n",
    "plt.ylabel('Loss')\n",
    "plt.legend()\n",
    "\n",
    "plt.tight_layout()\n",
    "plt.show()"
   ]
  },
  {
   "cell_type": "code",
   "execution_count": 42,
   "metadata": {
    "execution": {
     "iopub.execute_input": "2023-11-14T20:57:31.559942Z",
     "iopub.status.busy": "2023-11-14T20:57:31.559613Z",
     "iopub.status.idle": "2023-11-14T20:57:37.235037Z",
     "shell.execute_reply": "2023-11-14T20:57:37.234026Z",
     "shell.execute_reply.started": "2023-11-14T20:57:31.559913Z"
    }
   },
   "outputs": [
    {
     "name": "stdout",
     "output_type": "stream",
     "text": [
      "Predictions Shape: (612, 2)\n",
      "[[9.9998915e-01 1.0859608e-05]\n",
      " [2.1778185e-04 9.9978226e-01]\n",
      " [3.9557364e-02 9.6044266e-01]\n",
      " ...\n",
      " [5.3725846e-04 9.9946278e-01]\n",
      " [9.7741419e-03 9.9022585e-01]\n",
      " [9.9983764e-01 1.6237076e-04]]\n"
     ]
    }
   ],
   "source": [
    "# Predict labels for the entire test set\n",
    "predictions = tl_model.predict(preprocess_input(X_val*255), verbose=0)\n",
    "\n",
    "# Display the shape of the predictions\n",
    "print(\"Predictions Shape:\", predictions.shape)\n",
    "\n",
    "print(predictions)"
   ]
  },
  {
   "cell_type": "code",
   "execution_count": null,
   "metadata": {},
   "outputs": [],
   "source": [
    "last_val_loss, last_val_accuracy = tl_model.evaluate(X_val, y_val)\n",
    "last_train_loss, last_train_accuracy = tl_model.evaluate(X_train, y_train)\n",
    "\n",
    "val_loss.append(last_val_loss)\n",
    "val_accuracy.append(last_val_accuracy)\n",
    "train_loss.append(last_train_loss)\n",
    "train_accuracy.append(last_train_accuracy)\n",
    "\n",
    "print(\"Last model has reached\")\n",
    "print(\"Train loss: \", last_train_loss)\n",
    "print(\"Train accuracy: \", last_train_accuracy)\n",
    "print(\"Validation loss: \", last_val_loss)\n",
    "print(\"Validation accuracy: \", last_val_accuracy)"
   ]
  },
  {
   "cell_type": "code",
   "execution_count": 43,
   "metadata": {
    "execution": {
     "iopub.execute_input": "2023-11-14T20:57:37.236736Z",
     "iopub.status.busy": "2023-11-14T20:57:37.236425Z",
     "iopub.status.idle": "2023-11-14T20:57:37.530730Z",
     "shell.execute_reply": "2023-11-14T20:57:37.529689Z",
     "shell.execute_reply.started": "2023-11-14T20:57:37.236707Z"
    }
   },
   "outputs": [
    {
     "name": "stdout",
     "output_type": "stream",
     "text": [
      "Accuracy: 0.9575\n",
      "Precision: 0.9575\n",
      "Recall: 0.9575\n",
      "F1: 0.9575\n"
     ]
    },
    {
     "data": {
      "image/png": "[encoded data removed]",
      "text/plain": [
       "<Figure size 1000x800 with 2 Axes>"
      ]
     },
     "metadata": {},
     "output_type": "display_data"
    }
   ],
   "source": [
    "# Compute the confusion matrix\n",
    "cm = confusion_matrix(np.argmax(y_val, axis=-1), np.argmax(predictions, axis=-1))\n",
    "\n",
    "# Compute classification metrics\n",
    "accuracy = accuracy_score(np.argmax(y_val, axis=-1), np.argmax(predictions, axis=-1))\n",
    "precision = precision_score(np.argmax(y_val, axis=-1), np.argmax(predictions, axis=-1), average='macro')\n",
    "recall = recall_score(np.argmax(y_val, axis=-1), np.argmax(predictions, axis=-1), average='macro')\n",
    "f1 = f1_score(np.argmax(y_val, axis=-1), np.argmax(predictions, axis=-1), average='macro')\n",
    "\n",
    "# Display the computed metrics\n",
    "print('Accuracy:', accuracy.round(4))\n",
    "print('Precision:', precision.round(4))\n",
    "print('Recall:', recall.round(4))\n",
    "print('F1:', f1.round(4))\n",
    "\n",
    "# Plot the confusion matrix\n",
    "plt.figure(figsize=(10, 8))\n",
    "sns.heatmap(cm.T, cmap='Blues')\n",
    "plt.xlabel('True labels')\n",
    "plt.ylabel('Predicted labels')\n",
    "plt.show()"
   ]
  },
  {
   "cell_type": "code",
   "execution_count": null,
   "metadata": {},
   "outputs": [],
   "source": [
    "del tl_model"
   ]
  },
  {
   "cell_type": "code",
   "execution_count": null,
   "metadata": {},
   "outputs": [],
   "source": [
    "if best_val_accuracy <= last_val_accuracy: # current model is better than the previous one\n",
    "    best_val_accuracy = last_val_accuracy\n",
    "    best_model = model_name\n",
    "else: \n",
    "    print(\"No improvement with current model...\")\n",
    "    print(\"Best model is still \", best_model, \": reloading it!\")\n",
    "    tl_model = tfk.models.load_model(best_model)"
   ]
  },
  {
   "cell_type": "code",
   "execution_count": null,
   "metadata": {},
   "outputs": [],
   "source": [
    "print(\"Saving best model\")\n",
    "tl_model.save('best')"
   ]
  },
  {
   "cell_type": "code",
   "execution_count": null,
   "metadata": {},
   "outputs": [],
   "source": [
    "best_val_loss, best_val_accuracy = tl_model.evaluate(X_val, y_val)\n",
    "best_train_loss, best_train_accuracy = tl_model.evaluate(X_train, y_train)\n",
    "best_model_data = np.array([[best_val_loss, best_val_accuracy, best_train_loss, best_train_accuracy]])"
   ]
  },
  {
   "cell_type": "markdown",
   "metadata": {},
   "source": [
    "# Output history"
   ]
  },
  {
   "cell_type": "code",
   "execution_count": null,
   "metadata": {},
   "outputs": [],
   "source": [
    "data = np.array([val_loss, val_accuracy, train_loss, train_accuracy])\n",
    "best_model_data = np.array(best_model_data)\n",
    "\n",
    "# Transpose the array so that each metric is in a separate row\n",
    "data = data.T\n",
    "\n",
    "# Define the header for the columns\n",
    "header = \"val_loss\\tval_accuracy\\ttrain_loss\\ttrain_accuracy\"\n",
    "\n",
    "# Save the data to a text file\n",
    "np.savetxt('output.txt', data, header=header, comments='', delimiter='\\t')\n",
    "\n",
    "# Append a separator line\n",
    "with open('output.txt', 'a') as file:\n",
    "    file.write('\\n' + '-'*40 + '\\n')\n",
    "\n",
    "# Append the \"Best model\" section\n",
    "np.savetxt('output.txt', best_model_data, header=\"Best model:\", comments='', delimiter='\\t', fmt='%s', footer='\\n')"
   ]
  },
  {
   "cell_type": "markdown",
   "metadata": {},
   "source": [
    "# Train also on validation set"
   ]
  },
  {
   "cell_type": "code",
   "execution_count": null,
   "metadata": {},
   "outputs": [],
   "source": [
    "# Load best model\n",
    "tl_model = tfk.models.load_model(best_model)"
   ]
  },
  {
   "cell_type": "code",
   "execution_count": null,
   "metadata": {},
   "outputs": [],
   "source": [
    "# Set all layers as trainable\n",
    "tl_model.trainable = True\n",
    "\n",
    "if all(layer.trainable for layer in tl_model.layers):\n",
    "    print(\"Successful!\")\n",
    "else:\n",
    "    print(\"Error!\")"
   ]
  },
  {
   "cell_type": "code",
   "execution_count": null,
   "metadata": {},
   "outputs": [],
   "source": [
    "tl_model.compile(loss=tfk.losses.CategoricalCrossentropy(), optimizer=tfk.optimizers.Adam(1e-6), metrics=['accuracy'])"
   ]
  },
  {
   "cell_type": "code",
   "execution_count": null,
   "metadata": {},
   "outputs": [],
   "source": [
    "# Train the model\n",
    "print(\"All layers are training.\")\n",
    "tl_history = tl_model.fit(\n",
    "    x = X_val, # We need to apply the preprocessing thought for the MobileNetV2 network\n",
    "    y = y_val,\n",
    "    batch_size = 16,\n",
    "    epochs = 400,\n",
    "    validation_data = (X_val, y_val), # We need to apply the preprocessing thought for the MobileNetV2 network\n",
    "    callbacks = [tfk.callbacks.EarlyStopping(monitor='val_accuracy', mode='max', patience=120, restore_best_weights=True)]\n",
    ").history"
   ]
  },
  {
   "cell_type": "code",
   "execution_count": null,
   "metadata": {},
   "outputs": [],
   "source": [
    "plt.figure(figsize=(12, 6))\n",
    "\n",
    "# Plotting accuracy\n",
    "plt.subplot(1, 2, 1)\n",
    "plt.plot(tl_history['accuracy'], label='Training Accuracy')\n",
    "plt.plot(tl_history['val_accuracy'], label='Validation Accuracy')\n",
    "plt.title('Training and Validation Accuracy')\n",
    "plt.xlabel('Epoch')\n",
    "plt.ylabel('Accuracy')\n",
    "plt.legend()\n",
    "\n",
    "# Plotting loss\n",
    "plt.subplot(1, 2, 2)\n",
    "plt.plot(tl_history['loss'], label='Training Loss')\n",
    "plt.plot(tl_history['val_loss'], label='Validation Loss')\n",
    "plt.title('Training and Validation Loss')\n",
    "plt.xlabel('Epoch')\n",
    "plt.ylabel('Loss')\n",
    "plt.legend()\n",
    "\n",
    "plt.tight_layout()\n",
    "plt.show()"
   ]
  },
  {
   "cell_type": "code",
   "execution_count": null,
   "metadata": {},
   "outputs": [],
   "source": [
    "model_name = 'convnext_FTval'\n",
    "print(\"Finished training of \", model_name, \" model\")\n",
    "tl_model.save(model_name)"
   ]
  },
  {
   "cell_type": "code",
   "execution_count": null,
   "metadata": {},
   "outputs": [],
   "source": [
    "last_val_loss, last_val_accuracy = tl_model.evaluate(X_val, y_val)"
   ]
  },
  {
   "cell_type": "code",
   "execution_count": null,
   "metadata": {},
   "outputs": [],
   "source": [
    "if best_val_accuracy <= last_val_accuracy: # current model is better than the previous one\n",
    "    print(\"Better performance with training on validation set! \")\n",
    "else: \n",
    "    print(\"No improvement with training model on validation set...\")\n",
    "    print(\"Best model is still \", best_model)"
   ]
  },
  {
   "cell_type": "code",
   "execution_count": null,
   "metadata": {},
   "outputs": [],
   "source": [
    "val_model_data = np.array([[last_val_loss, last_val_accuracy]])\n",
    "with open('output.txt', 'a') as file:\n",
    "    file.write('\\n' + '-'*40 + '\\n')\n",
    "\n",
    "# Append the \"Best model\" section\n",
    "np.savetxt('output.txt', val_model_data, header=\"Model trained on validation:\", comments='', delimiter='\\t', fmt='%s', footer='\\n')"
   ]
  }
 ],
 "metadata": {
  "kernelspec": {
   "display_name": "Python 3 (ipykernel)",
   "language": "python",
   "name": "python3"
  },
  "language_info": {
   "codemirror_mode": {
    "name": "ipython",
    "version": 3
   },
   "file_extension": ".py",
   "mimetype": "text/x-python",
   "name": "python",
   "nbconvert_exporter": "python",
   "pygments_lexer": "ipython3",
   "version": "3.11.5"
  }
 },
 "nbformat": 4,
 "nbformat_minor": 4
}
