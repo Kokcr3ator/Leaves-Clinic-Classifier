{
 "cells": [
  {
   "cell_type": "markdown",
   "id": "95f8d05b",
   "metadata": {
    "id": "3hAvqSli1b3L",
    "papermill": {
     "duration": 0.009803,
     "end_time": "2023-11-18T00:40:32.908722",
     "exception": false,
     "start_time": "2023-11-18T00:40:32.898919",
     "status": "completed"
    },
    "tags": []
   },
   "source": [
    "### Import Libraries\n"
   ]
  },
  {
   "cell_type": "code",
   "execution_count": 2,
   "id": "f4c78045",
   "metadata": {
    "execution": {
     "iopub.execute_input": "2023-11-18T00:40:32.960725Z",
     "iopub.status.busy": "2023-11-18T00:40:32.960455Z",
     "iopub.status.idle": "2023-11-18T00:40:32.966239Z",
     "shell.execute_reply": "2023-11-18T00:40:32.965444Z"
    },
    "id": "BOiSXjlL1b3N",
    "papermill": {
     "duration": 0.017382,
     "end_time": "2023-11-18T00:40:32.968162",
     "exception": false,
     "start_time": "2023-11-18T00:40:32.950780",
     "status": "completed"
    },
    "tags": []
   },
   "outputs": [],
   "source": [
    "# Fix randomness and hide warnings\n",
    "seed = 42\n",
    "\n",
    "import os\n",
    "os.environ['TF_CPP_MIN_LOG_LEVEL'] = '3'\n",
    "os.environ['PYTHONHASHSEED'] = str(seed)\n",
    "os.environ['MPLCONFIGDIR'] = os.getcwd()+'/configs/'\n",
    "\n",
    "import warnings\n",
    "warnings.simplefilter(action='ignore', category=FutureWarning)\n",
    "warnings.simplefilter(action='ignore', category=Warning)\n",
    "\n",
    "import numpy as np\n",
    "np.random.seed(seed)\n",
    "\n",
    "import logging\n",
    "\n",
    "import random\n",
    "random.seed(seed)"
   ]
  },
  {
   "cell_type": "code",
   "execution_count": 5,
   "id": "84a03576",
   "metadata": {
    "execution": {
     "iopub.execute_input": "2023-11-18T00:41:49.390493Z",
     "iopub.status.busy": "2023-11-18T00:41:49.389628Z",
     "iopub.status.idle": "2023-11-18T00:41:55.862087Z",
     "shell.execute_reply": "2023-11-18T00:41:55.860995Z"
    },
    "id": "Pxvncnbo1b3P",
    "outputId": "32b03284-ed4a-4896-bd62-85cc7758e010",
    "papermill": {
     "duration": 6.50179,
     "end_time": "2023-11-18T00:41:55.864900",
     "exception": false,
     "start_time": "2023-11-18T00:41:49.363110",
     "status": "completed"
    },
    "tags": []
   },
   "outputs": [
    {
     "name": "stdout",
     "output_type": "stream",
     "text": [
      "2.14.0\n"
     ]
    }
   ],
   "source": [
    "# Import tensorflow\n",
    "import tensorflow as tf\n",
    "from tensorflow import keras as tfk\n",
    "from tensorflow.keras import layers as tfkl\n",
    "tf.autograph.set_verbosity(0)\n",
    "tf.get_logger().setLevel(logging.ERROR)\n",
    "tf.compat.v1.logging.set_verbosity(tf.compat.v1.logging.ERROR)\n",
    "tf.random.set_seed(seed)\n",
    "tf.compat.v1.set_random_seed(seed)\n",
    "print(tf.__version__)"
   ]
  },
  {
   "cell_type": "code",
   "execution_count": 6,
   "id": "95450fc8",
   "metadata": {
    "execution": {
     "iopub.execute_input": "2023-11-18T00:41:55.930616Z",
     "iopub.status.busy": "2023-11-18T00:41:55.929978Z",
     "iopub.status.idle": "2023-11-18T00:42:03.504956Z",
     "shell.execute_reply": "2023-11-18T00:42:03.504085Z"
    },
    "id": "diFY76jJ1b3Q",
    "outputId": "18f23d80-386e-4dbd-f841-95f9e3902d52",
    "papermill": {
     "duration": 7.608593,
     "end_time": "2023-11-18T00:42:03.507330",
     "exception": false,
     "start_time": "2023-11-18T00:41:55.898737",
     "status": "completed"
    },
    "tags": []
   },
   "outputs": [
    {
     "name": "stdout",
     "output_type": "stream",
     "text": [
      "Using TensorFlow backend\n"
     ]
    }
   ],
   "source": [
    "# Import some other useful libraries or functions\n",
    "import pandas as pd\n",
    "from sklearn.model_selection import train_test_split\n",
    "from sklearn.metrics import accuracy_score, f1_score, precision_score, recall_score, confusion_matrix\n",
    "import seaborn as sns\n",
    "import numpy as np\n",
    "import matplotlib.pyplot as plt\n",
    "import keras_cv.layers as kcvl\n",
    "from tensorflow.keras.utils import unpack_x_y_sample_weight"
   ]
  },
  {
   "cell_type": "code",
   "execution_count": 7,
   "id": "ebabee72",
   "metadata": {
    "execution": {
     "iopub.execute_input": "2023-11-18T00:42:03.557627Z",
     "iopub.status.busy": "2023-11-18T00:42:03.556992Z",
     "iopub.status.idle": "2023-11-18T00:42:10.031386Z",
     "shell.execute_reply": "2023-11-18T00:42:10.030543Z"
    },
    "papermill": {
     "duration": 6.502032,
     "end_time": "2023-11-18T00:42:10.033759",
     "exception": false,
     "start_time": "2023-11-18T00:42:03.531727",
     "status": "completed"
    },
    "tags": []
   },
   "outputs": [],
   "source": [
    "data = np.load('/kaggle/input/challenge1/dataset.npz',allow_pickle=True)\n",
    "lst = data.files\n",
    "X = data[lst[0]]\n",
    "y = data[lst[1]]\n",
    "\n",
    "# Convert values in data to int\n",
    "X = X.astype(int)"
   ]
  },
  {
   "cell_type": "markdown",
   "id": "47f3965e",
   "metadata": {
    "id": "jQgNWgsS1b3R",
    "papermill": {
     "duration": 0.027547,
     "end_time": "2023-11-18T00:42:10.087108",
     "exception": false,
     "start_time": "2023-11-18T00:42:10.059561",
     "status": "completed"
    },
    "tags": []
   },
   "source": [
    "### Create train and validation sets"
   ]
  },
  {
   "cell_type": "code",
   "execution_count": 8,
   "id": "858a7b6a",
   "metadata": {
    "execution": {
     "iopub.execute_input": "2023-11-18T00:42:10.139729Z",
     "iopub.status.busy": "2023-11-18T00:42:10.139114Z",
     "iopub.status.idle": "2023-11-18T00:42:11.167750Z",
     "shell.execute_reply": "2023-11-18T00:42:11.166937Z"
    },
    "id": "AU5AMMrS1b3S",
    "papermill": {
     "duration": 1.058543,
     "end_time": "2023-11-18T00:42:11.170117",
     "exception": false,
     "start_time": "2023-11-18T00:42:10.111574",
     "status": "completed"
    },
    "tags": []
   },
   "outputs": [],
   "source": [
    "# Normalize data to the range [0, 1]\n",
    "X_train_val = (X / 255).astype('float32')\n",
    "\n",
    "# Create a mapping from label string to values\n",
    "map = {'healthy':0 , 'unhealthy':1}\n",
    "\n",
    "# Map labels from string to the corresponding encoding\n",
    "int_labels = np.array([map[label.decode()] for label in y])\n",
    "\n",
    "# Convert labels to categorical format using one-hot encoding\n",
    "y_train_val = tfk.utils.to_categorical(int_labels)\n",
    "\n",
    "\n",
    "# Split data into training and validation sets, maintaining class distribution\n",
    "X_train, X_val, y_train, y_val = train_test_split(X_train_val, y_train_val, random_state=seed, test_size=0.1, stratify=y_train_val)\n",
    "\n",
    "del X_train_val, y_train_val"
   ]
  },
  {
   "cell_type": "markdown",
   "id": "d8b1cab1",
   "metadata": {
    "id": "Kxu83bQlCkGV",
    "papermill": {
     "duration": 0.024177,
     "end_time": "2023-11-18T00:42:11.219477",
     "exception": false,
     "start_time": "2023-11-18T00:42:11.195300",
     "status": "completed"
    },
    "tags": []
   },
   "source": [
    "### Define the Model"
   ]
  },
  {
   "cell_type": "code",
   "execution_count": 9,
   "id": "e7c4701f",
   "metadata": {
    "execution": {
     "iopub.execute_input": "2023-11-18T00:42:11.268637Z",
     "iopub.status.busy": "2023-11-18T00:42:11.268273Z",
     "iopub.status.idle": "2023-11-18T00:42:33.987214Z",
     "shell.execute_reply": "2023-11-18T00:42:33.986162Z"
    },
    "id": "GHoRJPTw72qJ",
    "papermill": {
     "duration": 22.746437,
     "end_time": "2023-11-18T00:42:33.989741",
     "exception": false,
     "start_time": "2023-11-18T00:42:11.243304",
     "status": "completed"
    },
    "tags": []
   },
   "outputs": [
    {
     "name": "stdout",
     "output_type": "stream",
     "text": [
      "Downloading data from https://storage.googleapis.com/tensorflow/keras-applications/convnext/convnext_xlarge_notop.h5\n",
      "1393257616/1393257616 [==============================] - 6s 0us/step\n"
     ]
    }
   ],
   "source": [
    "# Instantiate a ConvNeXtXLarge model with pre-trained ImageNet weights for transfer learning.\n",
    "# References:\n",
    "#   [A ConvNet for the 2020s](https://arxiv.org/abs/2201.03545)\n",
    "\n",
    "# Configure the model to exclude the top layer, set the input shape of our problem, specify\n",
    "# the number of output classes, and use softmax activation.\n",
    "convnext = tf.keras.applications.ConvNeXtXLarge(\n",
    "    include_top=False,\n",
    "    weights='imagenet',\n",
    "    input_shape=(96,96,3),\n",
    "    #pooling='avg',\n",
    "    classes=2,\n",
    "    classifier_activation='softmax',\n",
    ")\n",
    "\n",
    "# Froze the model's weights (non-trainable) to preserve pre-trained knowledge.\n",
    "convnext.trainable = False"
   ]
  },
  {
   "cell_type": "code",
   "execution_count": 10,
   "id": "db99e8c7",
   "metadata": {
    "execution": {
     "iopub.execute_input": "2023-11-18T00:42:34.110517Z",
     "iopub.status.busy": "2023-11-18T00:42:34.110139Z",
     "iopub.status.idle": "2023-11-18T00:42:34.143453Z",
     "shell.execute_reply": "2023-11-18T00:42:34.142424Z"
    },
    "id": "Qy-EI6OfsSPf",
    "papermill": {
     "duration": 0.073074,
     "end_time": "2023-11-18T00:42:34.145606",
     "exception": false,
     "start_time": "2023-11-18T00:42:34.072532",
     "status": "completed"
    },
    "tags": []
   },
   "outputs": [],
   "source": [
    "# Define an image augmentation pipeline using TensorFlow's Keras Sequential API.\n",
    "# The pipeline includes\n",
    "# - RandAugment technique [RandAugment: Practical automated data augmentation with a \n",
    "#   reduced search space](https://arxiv.org/abs/1909.13719),\n",
    "# - RandomFlip (horizontal or vertical flips),\n",
    "# - RandomZoom,\n",
    "# - RandomRotation.\n",
    "\n",
    "img_augmentation = tf.keras.Sequential(\n",
    "    [\n",
    "    kcvl.RandAugment(\n",
    "    # parameters set as in the paper\n",
    "    value_range = (0,1),\n",
    "    augmentations_per_image=3,\n",
    "    magnitude=0.3,\n",
    "    magnitude_stddev=0.15,\n",
    "    rate=0.9090909090909091,\n",
    "    geometric=True,\n",
    "    seed=seed),\n",
    "    tfkl.RandomFlip(),\n",
    "    tfkl.RandomRotation(factor= 0.5),\n",
    "    ],\n",
    "    name=\"img_augmentation\",)"
   ]
  },
  {
   "cell_type": "code",
   "execution_count": 11,
   "id": "fd9a90c8",
   "metadata": {
    "execution": {
     "iopub.execute_input": "2023-11-18T00:42:34.216895Z",
     "iopub.status.busy": "2023-11-18T00:42:34.216419Z",
     "iopub.status.idle": "2023-11-18T00:42:34.225130Z",
     "shell.execute_reply": "2023-11-18T00:42:34.224258Z"
    },
    "id": "usMcFhsqsbip",
    "papermill": {
     "duration": 0.045732,
     "end_time": "2023-11-18T00:42:34.227260",
     "exception": false,
     "start_time": "2023-11-18T00:42:34.181528",
     "status": "completed"
    },
    "tags": []
   },
   "outputs": [],
   "source": [
    "class CustomModel(tfk.Model):\n",
    "    def train_step(self, data):\n",
    "        \"\"\"\n",
    "            We override the train_step() method in the Model class to selectively\n",
    "            activate the RandAugment preprocessing layer only during training,\n",
    "            rather than during validation or testing. This ensures that the\n",
    "            RandAugment layer is invoked externally to the Model, but consistently\n",
    "            applies its random transformations each time an image is fed into the\n",
    "            model during training. By customizing the train_step() behavior, we\n",
    "            integrate the RandAugment functionality seamlessly into the training\n",
    "            process.\n",
    "\n",
    "            Code readapted from source code:\n",
    "            https://github.com/keras-team/keras/blob/v2.14.0/keras/engine/training.py#L1189-L1226\n",
    "        \"\"\"\n",
    "        x, y, sample_weight = tf.keras.utils.unpack_x_y_sample_weight(data)\n",
    "\n",
    "        # Perform augmentation on the input data for training\n",
    "        x = img_augmentation(x, training= True)\n",
    "\n",
    "        # Run forward pass.\n",
    "        with tf.GradientTape() as tape:\n",
    "            y_pred = self(x, training=True)\n",
    "            loss = self.compute_loss(x, y, y_pred, sample_weight)\n",
    "        self._validate_target_and_loss(y, loss)\n",
    "        # Run backwards pass.\n",
    "        self.optimizer.minimize(loss, self.trainable_variables, tape=tape)\n",
    "        return self.compute_metrics(x, y, y_pred, sample_weight)\n",
    "\n",
    "    def compile(self, *args, **kwargs):\n",
    "        super(CustomModel, self).compile(*args, **kwargs, metrics=['accuracy'])"
   ]
  },
  {
   "cell_type": "code",
   "execution_count": 12,
   "id": "2878e91a",
   "metadata": {
    "execution": {
     "iopub.execute_input": "2023-11-18T00:42:34.295013Z",
     "iopub.status.busy": "2023-11-18T00:42:34.293908Z",
     "iopub.status.idle": "2023-11-18T00:42:34.302337Z",
     "shell.execute_reply": "2023-11-18T00:42:34.301569Z"
    },
    "id": "z_HEU7w574eU",
    "papermill": {
     "duration": 0.04438,
     "end_time": "2023-11-18T00:42:34.304350",
     "exception": false,
     "start_time": "2023-11-18T00:42:34.259970",
     "status": "completed"
    },
    "tags": []
   },
   "outputs": [],
   "source": [
    "def build_convnextaug(input_shape=(96, 96, 3)):\n",
    "    \"\"\"\n",
    "        Build a ConvNeXtLarge-based CNN with image augmentation, and a custom\n",
    "        classifier for binary classification of healthy and unhealthy leaves.\n",
    "    \"\"\"\n",
    "    tf.random.set_seed(seed)\n",
    "    inputs = tfk.Input(shape=input_shape)\n",
    "\n",
    "    # Cast input\n",
    "    augmented_255 = tf.cast(inputs* 255, tf.uint8)\n",
    "\n",
    "    x1 = convnext(augmented_255)\n",
    "    x2 = tfkl.GlobalAveragePooling2D(name=\"avg_pool\")(x1)\n",
    "    norm = tfkl.BatchNormalization(name=\"batch_normalization\")(x2)\n",
    "\n",
    "    # Add a Dense layer with 2 units and softmax activation as the classifier\n",
    "    intermediate1 = tfkl.Dense(1024, activation=tf.keras.activations.swish)(norm)\n",
    "\n",
    "    outputs = tfkl.Dense(2, activation='softmax')(intermediate1)\n",
    "\n",
    "    # Create a Model connecting input and output\n",
    "    model = CustomModel(inputs=inputs, outputs=outputs, name='model')\n",
    "\n",
    "    # Compile the model with Categorical Cross-Entropy loss and Adam optimizer\n",
    "    optimizer = tf.keras.optimizers.AdamW()\n",
    "    model.compile(loss=tfk.losses.CategoricalCrossentropy(), optimizer=optimizer)\n",
    "\n",
    "    # Return the model\n",
    "    return model"
   ]
  },
  {
   "cell_type": "markdown",
   "id": "d5701a0c",
   "metadata": {
    "id": "6TREDvNyMr_Q",
    "papermill": {
     "duration": 0.034787,
     "end_time": "2023-11-18T00:42:34.373446",
     "exception": false,
     "start_time": "2023-11-18T00:42:34.338659",
     "status": "completed"
    },
    "tags": []
   },
   "source": [
    "### Plot of History and LR Scheduler"
   ]
  },
  {
   "cell_type": "code",
   "execution_count": 13,
   "id": "0f6bc3fd",
   "metadata": {
    "execution": {
     "iopub.execute_input": "2023-11-18T00:42:34.443338Z",
     "iopub.status.busy": "2023-11-18T00:42:34.442462Z",
     "iopub.status.idle": "2023-11-18T00:42:34.454078Z",
     "shell.execute_reply": "2023-11-18T00:42:34.453169Z"
    },
    "id": "6CIxO_Q6MmzM",
    "papermill": {
     "duration": 0.048941,
     "end_time": "2023-11-18T00:42:34.456104",
     "exception": false,
     "start_time": "2023-11-18T00:42:34.407163",
     "status": "completed"
    },
    "tags": []
   },
   "outputs": [],
   "source": [
    "from IPython.display import clear_output\n",
    "from tensorflow.keras.callbacks import Callback\n",
    "\n",
    "class PlotLearning(Callback):\n",
    "    \"\"\"\n",
    "    Callback for plotting the learning curves of a model during training.\n",
    "\n",
    "    This callback records and visualizes training and validation metrics (e.g.,\n",
    "    loss, accuracy) after each epoch to provide insights into the model's\n",
    "    performance.\n",
    "\n",
    "    Methods:\n",
    "    - on_train_begin: Initializes a dictionary to store training metrics.\n",
    "    - on_epoch_end: Collects and stores metrics after each epoch and plots the\n",
    "    learning curves.\n",
    "    \"\"\"\n",
    "    def on_train_begin(self, logs={}):\n",
    "        # Initializes a dictionary to store training metrics\n",
    "        self.metrics = {}\n",
    "        for metric in logs:\n",
    "            self.metrics[metric] = []\n",
    "\n",
    "\n",
    "    def on_epoch_end(self, epoch, logs={}):\n",
    "        # Storing metrics\n",
    "        for metric in logs:\n",
    "            if metric in self.metrics:\n",
    "                self.metrics[metric].append(logs.get(metric))\n",
    "            else:\n",
    "                self.metrics[metric] = [logs.get(metric)]\n",
    "\n",
    "        # Plotting\n",
    "        metrics = [x for x in logs if 'val' not in x]\n",
    "\n",
    "        # Set up subplots\n",
    "        f, axs = plt.subplots(1, len(metrics), figsize=(15,5))\n",
    "        clear_output(wait=True)\n",
    "\n",
    "        # Convert axs to a numpy array for indexing\n",
    "        if not isinstance(axs, np.ndarray):\n",
    "            axs = np.array([axs])\n",
    "\n",
    "        # Plot learning curves\n",
    "        for i, metric in enumerate(metrics):\n",
    "            axs[i].plot(range(1, epoch + 2),\n",
    "                        self.metrics[metric],\n",
    "                        label=metric)\n",
    "            if logs['val_' + metric]:\n",
    "                axs[i].plot(range(1, epoch + 2),\n",
    "                            self.metrics['val_' + metric],\n",
    "                            label='val_' + metric)\n",
    "\n",
    "            axs[i].legend()\n",
    "            axs[i].grid()\n",
    "\n",
    "        plt.tight_layout()\n",
    "        plt.show()"
   ]
  },
  {
   "cell_type": "code",
   "execution_count": 14,
   "id": "19319bb4",
   "metadata": {
    "execution": {
     "iopub.execute_input": "2023-11-18T00:42:34.524852Z",
     "iopub.status.busy": "2023-11-18T00:42:34.524080Z",
     "iopub.status.idle": "2023-11-18T00:42:34.530320Z",
     "shell.execute_reply": "2023-11-18T00:42:34.529392Z"
    },
    "id": "9cvJeeGyb7mr",
    "papermill": {
     "duration": 0.042833,
     "end_time": "2023-11-18T00:42:34.532193",
     "exception": false,
     "start_time": "2023-11-18T00:42:34.489360",
     "status": "completed"
    },
    "tags": []
   },
   "outputs": [],
   "source": [
    "from tensorflow.keras.callbacks import LearningRateScheduler\n",
    "\n",
    "def lr_scheduler(curr_epoch, curr_lr, start= 60, rate= 0.008):\n",
    "    \"\"\"\n",
    "    Learning rate scheduler function.\n",
    "\n",
    "    This function adjusts the learning rate during training.\n",
    "    It keeps the initial learning rate unchanged until the 40th epoch,\n",
    "    after which it exponentially decreases the learning rate.\n",
    "\n",
    "    Parameters:\n",
    "    - curr_epoch: The current epoch index.\n",
    "    - curr_lr: The current learning rate.\n",
    "    - start: The epoch at which the exponential decay starts (default: 40).\n",
    "    - rate: The rate controlling the decay (default: 0.008).\n",
    "\n",
    "    Returns:\n",
    "    - Updated learning rate.\n",
    "    \"\"\"\n",
    "    if curr_epoch < start:\n",
    "        return curr_lr\n",
    "    else:\n",
    "        return curr_lr * tf.math.exp(-rate)"
   ]
  },
  {
   "cell_type": "markdown",
   "id": "614134a1",
   "metadata": {
    "id": "QH1V0_qXjidO",
    "papermill": {
     "duration": 0.032386,
     "end_time": "2023-11-18T00:42:34.597999",
     "exception": false,
     "start_time": "2023-11-18T00:42:34.565613",
     "status": "completed"
    },
    "tags": []
   },
   "source": [
    "## Transfer Learning"
   ]
  },
  {
   "cell_type": "code",
   "execution_count": 15,
   "id": "f64de6e7",
   "metadata": {
    "execution": {
     "iopub.execute_input": "2023-11-18T00:42:34.666858Z",
     "iopub.status.busy": "2023-11-18T00:42:34.666124Z",
     "iopub.status.idle": "2023-11-18T00:42:34.670566Z",
     "shell.execute_reply": "2023-11-18T00:42:34.669705Z"
    },
    "id": "nWmVbUIi0USZ",
    "papermill": {
     "duration": 0.04122,
     "end_time": "2023-11-18T00:42:34.672609",
     "exception": false,
     "start_time": "2023-11-18T00:42:34.631389",
     "status": "completed"
    },
    "tags": []
   },
   "outputs": [],
   "source": [
    "# Define the path pattern for saving checkpoints and extract the directory\n",
    "checkpoint_path = \"convnext_TL/cp-{epoch:04d}.ckpt\"\n",
    "checkpoint_dir = os.path.dirname(checkpoint_path)\n",
    "\n",
    "# Configure a callback to save the best model based on validation accuracy\n",
    "cp_callback = tf.keras.callbacks.ModelCheckpoint(\n",
    "    filepath=checkpoint_path,\n",
    "    save_weights_only=False,\n",
    "    monitor='val_accuracy',\n",
    "    mode='max',\n",
    "    save_best_only=True)"
   ]
  },
  {
   "cell_type": "code",
   "execution_count": 17,
   "id": "3f470428",
   "metadata": {
    "execution": {
     "iopub.execute_input": "2023-11-18T00:42:36.991893Z",
     "iopub.status.busy": "2023-11-18T00:42:36.991155Z",
     "iopub.status.idle": "2023-11-18T06:03:55.235302Z",
     "shell.execute_reply": "2023-11-18T06:03:55.234239Z"
    },
    "id": "AXn3b1gB8HoM",
    "outputId": "db5d6f4c-e178-41f1-eb3d-eb9805574dc0",
    "papermill": {
     "duration": 19278.282036,
     "end_time": "2023-11-18T06:03:55.237621",
     "exception": false,
     "start_time": "2023-11-18T00:42:36.955585",
     "status": "completed"
    },
    "tags": []
   },
   "outputs": [
    {
     "data": {
      "image/png": "[encoded data removed]",
      "text/plain": [
       "<Figure size 1500x500 with 2 Axes>"
      ]
     },
     "metadata": {},
     "output_type": "display_data"
    },
    {
     "name": "stdout",
     "output_type": "stream",
     "text": [
      "345/345 [==============================] - 83s 239ms/step - loss: 0.1565 - accuracy: 0.9379 - val_loss: 0.1786 - val_accuracy: 0.9379 - lr: 2.4858e-04\n"
     ]
    }
   ],
   "source": [
    "# Build a ConvNeXtLarge model for transfer learning\n",
    "tl_model = build_convnextaug()\n",
    "\n",
    "# Set up a learning rate scheduler and a custom plotting callback, as well as\n",
    "# checkpoints\n",
    "lr_schedule = LearningRateScheduler(lr_scheduler)\n",
    "callbacks_list = [PlotLearning()]\n",
    "callbacks = [cp_callback]\n",
    "\n",
    "# Train the model with transfer learning\n",
    "tl_history = tl_model.fit(\n",
    "    x = X_train, # input training data\n",
    "    y = y_train,  # target training data\n",
    "    batch_size = 16,\n",
    "    epochs = 700,\n",
    "    validation_data = (X_val, y_val), # validation data\n",
    "    callbacks = [tfk.callbacks.EarlyStopping(monitor='val_accuracy',\n",
    "                                             mode='max',\n",
    "                                             patience=70,\n",
    "                                             restore_best_weights=True),\n",
    "                 callbacks_list,\n",
    "                 lr_schedule,\n",
    "                 callbacks]\n",
    ").history"
   ]
  },
  {
   "cell_type": "code",
   "execution_count": 19,
   "id": "bd13ac68",
   "metadata": {
    "execution": {
     "iopub.execute_input": "2023-11-18T06:04:30.045542Z",
     "iopub.status.busy": "2023-11-18T06:04:30.045247Z",
     "iopub.status.idle": "2023-11-18T06:05:09.236891Z",
     "shell.execute_reply": "2023-11-18T06:05:09.235925Z"
    },
    "id": "rqaETfOachCV",
    "outputId": "106aa02f-7a1f-4510-df95-4050213afd5b",
    "papermill": {
     "duration": 39.266976,
     "end_time": "2023-11-18T06:05:09.275476",
     "exception": false,
     "start_time": "2023-11-18T06:04:30.008500",
     "status": "completed"
    },
    "tags": []
   },
   "outputs": [
    {
     "name": "stdout",
     "output_type": "stream",
     "text": [
      "Finished training of  convnext_TL_aug  model. Model saved successfully.\n"
     ]
    }
   ],
   "source": [
    "model_name = 'convnext_TL_aug'\n",
    "\n",
    "# Save the trained ConvNeXt model with transfer learning\n",
    "tl_model.save(model_name)\n",
    "\n",
    "print(\"Finished training of \", model_name, \" model. Model saved successfully.\")"
   ]
  },
  {
   "cell_type": "code",
   "execution_count": 20,
   "id": "02b3591f",
   "metadata": {
    "execution": {
     "iopub.execute_input": "2023-11-18T06:05:09.351361Z",
     "iopub.status.busy": "2023-11-18T06:05:09.350995Z",
     "iopub.status.idle": "2023-11-18T06:06:12.073195Z",
     "shell.execute_reply": "2023-11-18T06:06:12.072197Z"
    },
    "id": "POKadabQchCW",
    "outputId": "12adc411-ef6a-4e5e-b23e-b3e142a54dc1",
    "papermill": {
     "duration": 62.763612,
     "end_time": "2023-11-18T06:06:12.075142",
     "exception": false,
     "start_time": "2023-11-18T06:05:09.311530",
     "status": "completed"
    },
    "tags": []
   },
   "outputs": [
    {
     "name": "stdout",
     "output_type": "stream",
     "text": [
      "20/20 [==============================] - 9s 286ms/step - loss: 0.1744 - accuracy: 0.9444\n",
      "173/173 [==============================] - 52s 303ms/step - loss: 0.0529 - accuracy: 0.9804\n",
      "Last model evaluation:\n",
      "Train loss: 0.05285150930285454\n",
      "Train accuracy: 0.9803921580314636\n",
      "Validation loss: 0.17440728843212128\n",
      "Validation accuracy: 0.9444444179534912\n"
     ]
    }
   ],
   "source": [
    "# Lists to store evaluation metrics\n",
    "val_loss = []\n",
    "val_accuracy = []\n",
    "train_loss = []\n",
    "train_accuracy = []\n",
    "\n",
    "# Evaluate the last model on validation and training sets\n",
    "last_val_loss, last_val_accuracy = tl_model.evaluate(X_val, y_val)\n",
    "last_train_loss, last_train_accuracy = tl_model.evaluate(X_train, y_train)\n",
    "\n",
    "# Update the lists with the evaluation metrics\n",
    "val_loss.append(last_val_loss)\n",
    "val_accuracy.append(last_val_accuracy)\n",
    "train_loss.append(last_train_loss)\n",
    "train_accuracy.append(last_train_accuracy)\n",
    "\n",
    "# Display the evaluation metrics for the last model\n",
    "print(\"Last model evaluation:\")\n",
    "print(\"Train loss:\", last_train_loss)\n",
    "print(\"Train accuracy:\", last_train_accuracy)\n",
    "print(\"Validation loss:\", last_val_loss)\n",
    "print(\"Validation accuracy:\", last_val_accuracy)"
   ]
  },
  {
   "cell_type": "markdown",
   "id": "e4f9b15c",
   "metadata": {
    "id": "B03FCIm1chCX",
    "papermill": {
     "duration": 0.051011,
     "end_time": "2023-11-18T06:06:12.177374",
     "exception": false,
     "start_time": "2023-11-18T06:06:12.126363",
     "status": "completed"
    },
    "tags": []
   },
   "source": [
    "# Fine Tuning"
   ]
  },
  {
   "cell_type": "code",
   "execution_count": 21,
   "id": "597874ca",
   "metadata": {
    "execution": {
     "iopub.execute_input": "2023-11-18T06:06:12.280244Z",
     "iopub.status.busy": "2023-11-18T06:06:12.279452Z",
     "iopub.status.idle": "2023-11-18T06:06:14.416480Z",
     "shell.execute_reply": "2023-11-18T06:06:14.415475Z"
    },
    "id": "6Gj_pB-1C0-x",
    "papermill": {
     "duration": 2.190959,
     "end_time": "2023-11-18T06:06:14.418881",
     "exception": false,
     "start_time": "2023-11-18T06:06:12.227922",
     "status": "completed"
    },
    "tags": []
   },
   "outputs": [],
   "source": [
    "# Save weights of the Transfer Learning model\n",
    "tl_model.save_weights('convnext_TL_weights')"
   ]
  },
  {
   "cell_type": "code",
   "execution_count": 22,
   "id": "422eca31",
   "metadata": {
    "execution": {
     "iopub.execute_input": "2023-11-18T06:06:14.523171Z",
     "iopub.status.busy": "2023-11-18T06:06:14.522827Z",
     "iopub.status.idle": "2023-11-18T06:06:17.908932Z",
     "shell.execute_reply": "2023-11-18T06:06:17.908023Z"
    },
    "id": "S6_ccjbjDE6L",
    "outputId": "847a7144-bd78-4cac-9de5-c6ab0a9d8b37",
    "papermill": {
     "duration": 3.439905,
     "end_time": "2023-11-18T06:06:17.910971",
     "exception": false,
     "start_time": "2023-11-18T06:06:14.471066",
     "status": "completed"
    },
    "tags": []
   },
   "outputs": [
    {
     "data": {
      "text/plain": [
       "<tensorflow.python.checkpoint.checkpoint.CheckpointLoadStatus at 0x7df98d2162f0>"
      ]
     },
     "execution_count": 22,
     "metadata": {},
     "output_type": "execute_result"
    }
   ],
   "source": [
    "# Create a new instance of CustomModel for fine-tuning\n",
    "ft_model = build_convnextaug()\n",
    "\n",
    "# Load the weights for the model\n",
    "ft_model.load_weights('convnext_TL_weights')"
   ]
  },
  {
   "cell_type": "code",
   "execution_count": 23,
   "id": "3474ab36",
   "metadata": {
    "execution": {
     "iopub.execute_input": "2023-11-18T06:06:18.015320Z",
     "iopub.status.busy": "2023-11-18T06:06:18.014999Z",
     "iopub.status.idle": "2023-11-18T06:06:18.032780Z",
     "shell.execute_reply": "2023-11-18T06:06:18.031935Z"
    },
    "id": "4FSySJ4xchCY",
    "outputId": "9088c62f-bffd-4456-dd42-f63559d6a3e1",
    "papermill": {
     "duration": 0.071936,
     "end_time": "2023-11-18T06:06:18.034692",
     "exception": false,
     "start_time": "2023-11-18T06:06:17.962756",
     "status": "completed"
    },
    "tags": []
   },
   "outputs": [
    {
     "name": "stdout",
     "output_type": "stream",
     "text": [
      "Successful!\n"
     ]
    }
   ],
   "source": [
    "# Set all layers as trainable\n",
    "ft_model.trainable = True\n",
    "\n",
    "if all(layer.trainable for layer in ft_model.layers):\n",
    "    print(\"Successful!\")\n",
    "else:\n",
    "    print(\"Error!\")\n",
    "\n",
    "ft_model.get_layer('batch_normalization').trainable = False"
   ]
  },
  {
   "cell_type": "code",
   "execution_count": 24,
   "id": "3de27f77",
   "metadata": {
    "execution": {
     "iopub.execute_input": "2023-11-18T06:06:18.138167Z",
     "iopub.status.busy": "2023-11-18T06:06:18.137575Z",
     "iopub.status.idle": "2023-11-18T06:06:18.199340Z",
     "shell.execute_reply": "2023-11-18T06:06:18.196529Z"
    },
    "id": "_N3AApVdBkrk",
    "outputId": "98a1185f-84b9-43bd-bc5f-284d4a8455ce",
    "papermill": {
     "duration": 0.115373,
     "end_time": "2023-11-18T06:06:18.201187",
     "exception": false,
     "start_time": "2023-11-18T06:06:18.085814",
     "status": "completed"
    },
    "tags": []
   },
   "outputs": [
    {
     "name": "stdout",
     "output_type": "stream",
     "text": [
      "Model: \"model\"\n",
      "_________________________________________________________________\n",
      " Layer (type)                Output Shape              Param #   \n",
      "=================================================================\n",
      " input_3 (InputLayer)        [(None, 96, 96, 3)]       0         \n",
      "                                                                 \n",
      " tf.math.multiply_1 (TFOpLa  (None, 96, 96, 3)         0         \n",
      " mbda)                                                           \n",
      "                                                                 \n",
      " tf.cast_1 (TFOpLambda)      (None, 96, 96, 3)         0         \n",
      "                                                                 \n",
      " convnext_xlarge (Functiona  (None, 3, 3, 2048)        348147968 \n",
      " l)                                                              \n",
      "                                                                 \n",
      " avg_pool (GlobalAveragePoo  (None, 2048)              0         \n",
      " ling2D)                                                         \n",
      "                                                                 \n",
      " batch_normalization (Batch  (None, 2048)              8192      \n",
      " Normalization)                                                  \n",
      "                                                                 \n",
      " dense_2 (Dense)             (None, 1024)              2098176   \n",
      "                                                                 \n",
      " dense_3 (Dense)             (None, 2)                 2050      \n",
      "                                                                 \n",
      "=================================================================\n",
      "Total params: 350256386 (1.30 GB)\n",
      "Trainable params: 350248194 (1.30 GB)\n",
      "Non-trainable params: 8192 (32.00 KB)\n",
      "_________________________________________________________________\n",
      "Layers within 'convnext_large' submodule:\n",
      "0 input_1 True\n",
      "1 convnext_xlarge_prestem_normalization True\n",
      "2 convnext_xlarge_stem True\n",
      "3 convnext_xlarge_stage_0_block_0_depthwise_conv True\n",
      "4 convnext_xlarge_stage_0_block_0_layernorm True\n",
      "5 convnext_xlarge_stage_0_block_0_pointwise_conv_1 True\n",
      "6 convnext_xlarge_stage_0_block_0_gelu True\n",
      "7 convnext_xlarge_stage_0_block_0_pointwise_conv_2 True\n",
      "8 convnext_xlarge_stage_0_block_0_layer_scale True\n",
      "9 convnext_xlarge_stage_0_block_0_identity True\n",
      "10 tf.__operators__.add True\n",
      "11 convnext_xlarge_stage_0_block_1_depthwise_conv True\n",
      "12 convnext_xlarge_stage_0_block_1_layernorm True\n",
      "13 convnext_xlarge_stage_0_block_1_pointwise_conv_1 True\n",
      "14 convnext_xlarge_stage_0_block_1_gelu True\n",
      "15 convnext_xlarge_stage_0_block_1_pointwise_conv_2 True\n",
      "16 convnext_xlarge_stage_0_block_1_layer_scale True\n",
      "17 convnext_xlarge_stage_0_block_1_identity True\n",
      "18 tf.__operators__.add_1 True\n",
      "19 convnext_xlarge_stage_0_block_2_depthwise_conv True\n",
      "20 convnext_xlarge_stage_0_block_2_layernorm True\n",
      "21 convnext_xlarge_stage_0_block_2_pointwise_conv_1 True\n",
      "22 convnext_xlarge_stage_0_block_2_gelu True\n",
      "23 convnext_xlarge_stage_0_block_2_pointwise_conv_2 True\n",
      "24 convnext_xlarge_stage_0_block_2_layer_scale True\n",
      "25 convnext_xlarge_stage_0_block_2_identity True\n",
      "26 tf.__operators__.add_2 True\n",
      "27 convnext_xlarge_downsampling_block_0 True\n",
      "28 convnext_xlarge_stage_1_block_0_depthwise_conv True\n",
      "29 convnext_xlarge_stage_1_block_0_layernorm True\n",
      "30 convnext_xlarge_stage_1_block_0_pointwise_conv_1 True\n",
      "31 convnext_xlarge_stage_1_block_0_gelu True\n",
      "32 convnext_xlarge_stage_1_block_0_pointwise_conv_2 True\n",
      "33 convnext_xlarge_stage_1_block_0_layer_scale True\n",
      "34 convnext_xlarge_stage_1_block_0_identity True\n",
      "35 tf.__operators__.add_3 True\n",
      "36 convnext_xlarge_stage_1_block_1_depthwise_conv True\n",
      "37 convnext_xlarge_stage_1_block_1_layernorm True\n",
      "38 convnext_xlarge_stage_1_block_1_pointwise_conv_1 True\n",
      "39 convnext_xlarge_stage_1_block_1_gelu True\n",
      "40 convnext_xlarge_stage_1_block_1_pointwise_conv_2 True\n",
      "41 convnext_xlarge_stage_1_block_1_layer_scale True\n",
      "42 convnext_xlarge_stage_1_block_1_identity True\n",
      "43 tf.__operators__.add_4 True\n",
      "44 convnext_xlarge_stage_1_block_2_depthwise_conv True\n",
      "45 convnext_xlarge_stage_1_block_2_layernorm True\n",
      "46 convnext_xlarge_stage_1_block_2_pointwise_conv_1 True\n",
      "47 convnext_xlarge_stage_1_block_2_gelu True\n",
      "48 convnext_xlarge_stage_1_block_2_pointwise_conv_2 True\n",
      "49 convnext_xlarge_stage_1_block_2_layer_scale True\n",
      "50 convnext_xlarge_stage_1_block_2_identity True\n",
      "51 tf.__operators__.add_5 True\n",
      "52 convnext_xlarge_downsampling_block_1 True\n",
      "53 convnext_xlarge_stage_2_block_0_depthwise_conv True\n",
      "54 convnext_xlarge_stage_2_block_0_layernorm True\n",
      "55 convnext_xlarge_stage_2_block_0_pointwise_conv_1 True\n",
      "56 convnext_xlarge_stage_2_block_0_gelu True\n",
      "57 convnext_xlarge_stage_2_block_0_pointwise_conv_2 True\n",
      "58 convnext_xlarge_stage_2_block_0_layer_scale True\n",
      "59 convnext_xlarge_stage_2_block_0_identity True\n",
      "60 tf.__operators__.add_6 True\n",
      "61 convnext_xlarge_stage_2_block_1_depthwise_conv True\n",
      "62 convnext_xlarge_stage_2_block_1_layernorm True\n",
      "63 convnext_xlarge_stage_2_block_1_pointwise_conv_1 True\n",
      "64 convnext_xlarge_stage_2_block_1_gelu True\n",
      "65 convnext_xlarge_stage_2_block_1_pointwise_conv_2 True\n",
      "66 convnext_xlarge_stage_2_block_1_layer_scale True\n",
      "67 convnext_xlarge_stage_2_block_1_identity True\n",
      "68 tf.__operators__.add_7 True\n",
      "69 convnext_xlarge_stage_2_block_2_depthwise_conv True\n",
      "70 convnext_xlarge_stage_2_block_2_layernorm True\n",
      "71 convnext_xlarge_stage_2_block_2_pointwise_conv_1 True\n",
      "72 convnext_xlarge_stage_2_block_2_gelu True\n",
      "73 convnext_xlarge_stage_2_block_2_pointwise_conv_2 True\n",
      "74 convnext_xlarge_stage_2_block_2_layer_scale True\n",
      "75 convnext_xlarge_stage_2_block_2_identity True\n",
      "76 tf.__operators__.add_8 True\n",
      "77 convnext_xlarge_stage_2_block_3_depthwise_conv True\n",
      "78 convnext_xlarge_stage_2_block_3_layernorm True\n",
      "79 convnext_xlarge_stage_2_block_3_pointwise_conv_1 True\n",
      "80 convnext_xlarge_stage_2_block_3_gelu True\n",
      "81 convnext_xlarge_stage_2_block_3_pointwise_conv_2 True\n",
      "82 convnext_xlarge_stage_2_block_3_layer_scale True\n",
      "83 convnext_xlarge_stage_2_block_3_identity True\n",
      "84 tf.__operators__.add_9 True\n",
      "85 convnext_xlarge_stage_2_block_4_depthwise_conv True\n",
      "86 convnext_xlarge_stage_2_block_4_layernorm True\n",
      "87 convnext_xlarge_stage_2_block_4_pointwise_conv_1 True\n",
      "88 convnext_xlarge_stage_2_block_4_gelu True\n",
      "89 convnext_xlarge_stage_2_block_4_pointwise_conv_2 True\n",
      "90 convnext_xlarge_stage_2_block_4_layer_scale True\n",
      "91 convnext_xlarge_stage_2_block_4_identity True\n",
      "92 tf.__operators__.add_10 True\n",
      "93 convnext_xlarge_stage_2_block_5_depthwise_conv True\n",
      "94 convnext_xlarge_stage_2_block_5_layernorm True\n",
      "95 convnext_xlarge_stage_2_block_5_pointwise_conv_1 True\n",
      "96 convnext_xlarge_stage_2_block_5_gelu True\n",
      "97 convnext_xlarge_stage_2_block_5_pointwise_conv_2 True\n",
      "98 convnext_xlarge_stage_2_block_5_layer_scale True\n",
      "99 convnext_xlarge_stage_2_block_5_identity True\n",
      "100 tf.__operators__.add_11 True\n",
      "101 convnext_xlarge_stage_2_block_6_depthwise_conv True\n",
      "102 convnext_xlarge_stage_2_block_6_layernorm True\n",
      "103 convnext_xlarge_stage_2_block_6_pointwise_conv_1 True\n",
      "104 convnext_xlarge_stage_2_block_6_gelu True\n",
      "105 convnext_xlarge_stage_2_block_6_pointwise_conv_2 True\n",
      "106 convnext_xlarge_stage_2_block_6_layer_scale True\n",
      "107 convnext_xlarge_stage_2_block_6_identity True\n",
      "108 tf.__operators__.add_12 True\n",
      "109 convnext_xlarge_stage_2_block_7_depthwise_conv True\n",
      "110 convnext_xlarge_stage_2_block_7_layernorm True\n",
      "111 convnext_xlarge_stage_2_block_7_pointwise_conv_1 True\n",
      "112 convnext_xlarge_stage_2_block_7_gelu True\n",
      "113 convnext_xlarge_stage_2_block_7_pointwise_conv_2 True\n",
      "114 convnext_xlarge_stage_2_block_7_layer_scale True\n",
      "115 convnext_xlarge_stage_2_block_7_identity True\n",
      "116 tf.__operators__.add_13 True\n",
      "117 convnext_xlarge_stage_2_block_8_depthwise_conv True\n",
      "118 convnext_xlarge_stage_2_block_8_layernorm True\n",
      "119 convnext_xlarge_stage_2_block_8_pointwise_conv_1 True\n",
      "120 convnext_xlarge_stage_2_block_8_gelu True\n",
      "121 convnext_xlarge_stage_2_block_8_pointwise_conv_2 True\n",
      "122 convnext_xlarge_stage_2_block_8_layer_scale True\n",
      "123 convnext_xlarge_stage_2_block_8_identity True\n",
      "124 tf.__operators__.add_14 True\n",
      "125 convnext_xlarge_stage_2_block_9_depthwise_conv True\n",
      "126 convnext_xlarge_stage_2_block_9_layernorm True\n",
      "127 convnext_xlarge_stage_2_block_9_pointwise_conv_1 True\n",
      "128 convnext_xlarge_stage_2_block_9_gelu True\n",
      "129 convnext_xlarge_stage_2_block_9_pointwise_conv_2 True\n",
      "130 convnext_xlarge_stage_2_block_9_layer_scale True\n",
      "131 convnext_xlarge_stage_2_block_9_identity True\n",
      "132 tf.__operators__.add_15 True\n",
      "133 convnext_xlarge_stage_2_block_10_depthwise_conv True\n",
      "134 convnext_xlarge_stage_2_block_10_layernorm True\n",
      "135 convnext_xlarge_stage_2_block_10_pointwise_conv_1 True\n",
      "136 convnext_xlarge_stage_2_block_10_gelu True\n",
      "137 convnext_xlarge_stage_2_block_10_pointwise_conv_2 True\n",
      "138 convnext_xlarge_stage_2_block_10_layer_scale True\n",
      "139 convnext_xlarge_stage_2_block_10_identity True\n",
      "140 tf.__operators__.add_16 True\n",
      "141 convnext_xlarge_stage_2_block_11_depthwise_conv True\n",
      "142 convnext_xlarge_stage_2_block_11_layernorm True\n",
      "143 convnext_xlarge_stage_2_block_11_pointwise_conv_1 True\n",
      "144 convnext_xlarge_stage_2_block_11_gelu True\n",
      "145 convnext_xlarge_stage_2_block_11_pointwise_conv_2 True\n",
      "146 convnext_xlarge_stage_2_block_11_layer_scale True\n",
      "147 convnext_xlarge_stage_2_block_11_identity True\n",
      "148 tf.__operators__.add_17 True\n",
      "149 convnext_xlarge_stage_2_block_12_depthwise_conv True\n",
      "150 convnext_xlarge_stage_2_block_12_layernorm True\n",
      "151 convnext_xlarge_stage_2_block_12_pointwise_conv_1 True\n",
      "152 convnext_xlarge_stage_2_block_12_gelu True\n",
      "153 convnext_xlarge_stage_2_block_12_pointwise_conv_2 True\n",
      "154 convnext_xlarge_stage_2_block_12_layer_scale True\n",
      "155 convnext_xlarge_stage_2_block_12_identity True\n",
      "156 tf.__operators__.add_18 True\n",
      "157 convnext_xlarge_stage_2_block_13_depthwise_conv True\n",
      "158 convnext_xlarge_stage_2_block_13_layernorm True\n",
      "159 convnext_xlarge_stage_2_block_13_pointwise_conv_1 True\n",
      "160 convnext_xlarge_stage_2_block_13_gelu True\n",
      "161 convnext_xlarge_stage_2_block_13_pointwise_conv_2 True\n",
      "162 convnext_xlarge_stage_2_block_13_layer_scale True\n",
      "163 convnext_xlarge_stage_2_block_13_identity True\n",
      "164 tf.__operators__.add_19 True\n",
      "165 convnext_xlarge_stage_2_block_14_depthwise_conv True\n",
      "166 convnext_xlarge_stage_2_block_14_layernorm True\n",
      "167 convnext_xlarge_stage_2_block_14_pointwise_conv_1 True\n",
      "168 convnext_xlarge_stage_2_block_14_gelu True\n",
      "169 convnext_xlarge_stage_2_block_14_pointwise_conv_2 True\n",
      "170 convnext_xlarge_stage_2_block_14_layer_scale True\n",
      "171 convnext_xlarge_stage_2_block_14_identity True\n",
      "172 tf.__operators__.add_20 True\n",
      "173 convnext_xlarge_stage_2_block_15_depthwise_conv True\n",
      "174 convnext_xlarge_stage_2_block_15_layernorm True\n",
      "175 convnext_xlarge_stage_2_block_15_pointwise_conv_1 True\n",
      "176 convnext_xlarge_stage_2_block_15_gelu True\n",
      "177 convnext_xlarge_stage_2_block_15_pointwise_conv_2 True\n",
      "178 convnext_xlarge_stage_2_block_15_layer_scale True\n",
      "179 convnext_xlarge_stage_2_block_15_identity True\n",
      "180 tf.__operators__.add_21 True\n",
      "181 convnext_xlarge_stage_2_block_16_depthwise_conv True\n",
      "182 convnext_xlarge_stage_2_block_16_layernorm True\n",
      "183 convnext_xlarge_stage_2_block_16_pointwise_conv_1 True\n",
      "184 convnext_xlarge_stage_2_block_16_gelu True\n",
      "185 convnext_xlarge_stage_2_block_16_pointwise_conv_2 True\n",
      "186 convnext_xlarge_stage_2_block_16_layer_scale True\n",
      "187 convnext_xlarge_stage_2_block_16_identity True\n",
      "188 tf.__operators__.add_22 True\n",
      "189 convnext_xlarge_stage_2_block_17_depthwise_conv True\n",
      "190 convnext_xlarge_stage_2_block_17_layernorm True\n",
      "191 convnext_xlarge_stage_2_block_17_pointwise_conv_1 True\n",
      "192 convnext_xlarge_stage_2_block_17_gelu True\n",
      "193 convnext_xlarge_stage_2_block_17_pointwise_conv_2 True\n",
      "194 convnext_xlarge_stage_2_block_17_layer_scale True\n",
      "195 convnext_xlarge_stage_2_block_17_identity True\n",
      "196 tf.__operators__.add_23 True\n",
      "197 convnext_xlarge_stage_2_block_18_depthwise_conv True\n",
      "198 convnext_xlarge_stage_2_block_18_layernorm True\n",
      "199 convnext_xlarge_stage_2_block_18_pointwise_conv_1 True\n",
      "200 convnext_xlarge_stage_2_block_18_gelu True\n",
      "201 convnext_xlarge_stage_2_block_18_pointwise_conv_2 True\n",
      "202 convnext_xlarge_stage_2_block_18_layer_scale True\n",
      "203 convnext_xlarge_stage_2_block_18_identity True\n",
      "204 tf.__operators__.add_24 True\n",
      "205 convnext_xlarge_stage_2_block_19_depthwise_conv True\n",
      "206 convnext_xlarge_stage_2_block_19_layernorm True\n",
      "207 convnext_xlarge_stage_2_block_19_pointwise_conv_1 True\n",
      "208 convnext_xlarge_stage_2_block_19_gelu True\n",
      "209 convnext_xlarge_stage_2_block_19_pointwise_conv_2 True\n",
      "210 convnext_xlarge_stage_2_block_19_layer_scale True\n",
      "211 convnext_xlarge_stage_2_block_19_identity True\n",
      "212 tf.__operators__.add_25 True\n",
      "213 convnext_xlarge_stage_2_block_20_depthwise_conv True\n",
      "214 convnext_xlarge_stage_2_block_20_layernorm True\n",
      "215 convnext_xlarge_stage_2_block_20_pointwise_conv_1 True\n",
      "216 convnext_xlarge_stage_2_block_20_gelu True\n",
      "217 convnext_xlarge_stage_2_block_20_pointwise_conv_2 True\n",
      "218 convnext_xlarge_stage_2_block_20_layer_scale True\n",
      "219 convnext_xlarge_stage_2_block_20_identity True\n",
      "220 tf.__operators__.add_26 True\n",
      "221 convnext_xlarge_stage_2_block_21_depthwise_conv True\n",
      "222 convnext_xlarge_stage_2_block_21_layernorm True\n",
      "223 convnext_xlarge_stage_2_block_21_pointwise_conv_1 True\n",
      "224 convnext_xlarge_stage_2_block_21_gelu True\n",
      "225 convnext_xlarge_stage_2_block_21_pointwise_conv_2 True\n",
      "226 convnext_xlarge_stage_2_block_21_layer_scale True\n",
      "227 convnext_xlarge_stage_2_block_21_identity True\n",
      "228 tf.__operators__.add_27 True\n",
      "229 convnext_xlarge_stage_2_block_22_depthwise_conv True\n",
      "230 convnext_xlarge_stage_2_block_22_layernorm True\n",
      "231 convnext_xlarge_stage_2_block_22_pointwise_conv_1 True\n",
      "232 convnext_xlarge_stage_2_block_22_gelu True\n",
      "233 convnext_xlarge_stage_2_block_22_pointwise_conv_2 True\n",
      "234 convnext_xlarge_stage_2_block_22_layer_scale True\n",
      "235 convnext_xlarge_stage_2_block_22_identity True\n",
      "236 tf.__operators__.add_28 True\n",
      "237 convnext_xlarge_stage_2_block_23_depthwise_conv True\n",
      "238 convnext_xlarge_stage_2_block_23_layernorm True\n",
      "239 convnext_xlarge_stage_2_block_23_pointwise_conv_1 True\n",
      "240 convnext_xlarge_stage_2_block_23_gelu True\n",
      "241 convnext_xlarge_stage_2_block_23_pointwise_conv_2 True\n",
      "242 convnext_xlarge_stage_2_block_23_layer_scale True\n",
      "243 convnext_xlarge_stage_2_block_23_identity True\n",
      "244 tf.__operators__.add_29 True\n",
      "245 convnext_xlarge_stage_2_block_24_depthwise_conv True\n",
      "246 convnext_xlarge_stage_2_block_24_layernorm True\n",
      "247 convnext_xlarge_stage_2_block_24_pointwise_conv_1 True\n",
      "248 convnext_xlarge_stage_2_block_24_gelu True\n",
      "249 convnext_xlarge_stage_2_block_24_pointwise_conv_2 True\n",
      "250 convnext_xlarge_stage_2_block_24_layer_scale True\n",
      "251 convnext_xlarge_stage_2_block_24_identity True\n",
      "252 tf.__operators__.add_30 True\n",
      "253 convnext_xlarge_stage_2_block_25_depthwise_conv True\n",
      "254 convnext_xlarge_stage_2_block_25_layernorm True\n",
      "255 convnext_xlarge_stage_2_block_25_pointwise_conv_1 True\n",
      "256 convnext_xlarge_stage_2_block_25_gelu True\n",
      "257 convnext_xlarge_stage_2_block_25_pointwise_conv_2 True\n",
      "258 convnext_xlarge_stage_2_block_25_layer_scale True\n",
      "259 convnext_xlarge_stage_2_block_25_identity True\n",
      "260 tf.__operators__.add_31 True\n",
      "261 convnext_xlarge_stage_2_block_26_depthwise_conv True\n",
      "262 convnext_xlarge_stage_2_block_26_layernorm True\n",
      "263 convnext_xlarge_stage_2_block_26_pointwise_conv_1 True\n",
      "264 convnext_xlarge_stage_2_block_26_gelu True\n",
      "265 convnext_xlarge_stage_2_block_26_pointwise_conv_2 True\n",
      "266 convnext_xlarge_stage_2_block_26_layer_scale True\n",
      "267 convnext_xlarge_stage_2_block_26_identity True\n",
      "268 tf.__operators__.add_32 True\n",
      "269 convnext_xlarge_downsampling_block_2 True\n",
      "270 convnext_xlarge_stage_3_block_0_depthwise_conv True\n",
      "271 convnext_xlarge_stage_3_block_0_layernorm True\n",
      "272 convnext_xlarge_stage_3_block_0_pointwise_conv_1 True\n",
      "273 convnext_xlarge_stage_3_block_0_gelu True\n",
      "274 convnext_xlarge_stage_3_block_0_pointwise_conv_2 True\n",
      "275 convnext_xlarge_stage_3_block_0_layer_scale True\n",
      "276 convnext_xlarge_stage_3_block_0_identity True\n",
      "277 tf.__operators__.add_33 True\n",
      "278 convnext_xlarge_stage_3_block_1_depthwise_conv True\n",
      "279 convnext_xlarge_stage_3_block_1_layernorm True\n",
      "280 convnext_xlarge_stage_3_block_1_pointwise_conv_1 True\n",
      "281 convnext_xlarge_stage_3_block_1_gelu True\n",
      "282 convnext_xlarge_stage_3_block_1_pointwise_conv_2 True\n",
      "283 convnext_xlarge_stage_3_block_1_layer_scale True\n",
      "284 convnext_xlarge_stage_3_block_1_identity True\n",
      "285 tf.__operators__.add_34 True\n",
      "286 convnext_xlarge_stage_3_block_2_depthwise_conv True\n",
      "287 convnext_xlarge_stage_3_block_2_layernorm True\n",
      "288 convnext_xlarge_stage_3_block_2_pointwise_conv_1 True\n",
      "289 convnext_xlarge_stage_3_block_2_gelu True\n",
      "290 convnext_xlarge_stage_3_block_2_pointwise_conv_2 True\n",
      "291 convnext_xlarge_stage_3_block_2_layer_scale True\n",
      "292 convnext_xlarge_stage_3_block_2_identity True\n",
      "293 tf.__operators__.add_35 True\n",
      "294 layer_normalization True\n",
      "\n",
      "\n",
      "All layers in the model:\n",
      "0 input_3 True\n",
      "1 tf.math.multiply_1 True\n",
      "2 tf.cast_1 True\n",
      "3 convnext_xlarge True\n",
      "4 avg_pool True\n",
      "5 batch_normalization False\n",
      "6 dense_2 True\n",
      "7 dense_3 True\n"
     ]
    }
   ],
   "source": [
    "# Display the summary of the Transfer Learning model\n",
    "ft_model.summary()\n",
    "\n",
    "# Display the layers and their trainable status within the 'convnext_large' submodule\n",
    "print(\"Layers within 'convnext_large' submodule:\")\n",
    "for i, layer in enumerate(ft_model.get_layer('convnext_xlarge').layers):\n",
    "    print(i, layer.name, layer.trainable)\n",
    "\n",
    "print(\"\\n\")\n",
    "\n",
    "# Display all layers in the entire model and their trainable status\n",
    "print(\"All layers in the model:\")\n",
    "for i, layer in enumerate(ft_model.layers):\n",
    "    print(i, layer.name, layer.trainable)"
   ]
  },
  {
   "cell_type": "code",
   "execution_count": null,
   "metadata": {},
   "outputs": [],
   "source": [
    "# Run this cell to run half of the layers.\n",
    "\n",
    "# Freeze the first N layers (approximately the first half) of the\n",
    "# 'convnext_large' submodule.\n",
    "# Also the fully-connected part will train.\n",
    "N = 149\n",
    "for i, layer in enumerate(ft_model.get_layer('convnext_large').layers[:N]):\n",
    "    layer.trainable = False\n",
    "\n",
    "# Display the layers and their updated trainable status within the submodule\n",
    "print(\"Updated trainable status after freezing layers:\")\n",
    "for i, layer in enumerate(ft_model.get_layer('convnext_large').layers):\n",
    "    print(i, layer.name, layer.trainable)"
   ]
  },
  {
   "cell_type": "code",
   "execution_count": null,
   "metadata": {},
   "outputs": [],
   "source": [
    "# Define the path pattern for saving checkpoints and extract the directory\n",
    "checkpoint_path = \"convnext_FT/cp-{epoch:04d}.ckpt\"\n",
    "checkpoint_dir = os.path.dirname(checkpoint_path)\n",
    "\n",
    "# Configure a callback to save the best model based on validation accuracy\n",
    "cp_callback = tf.keras.callbacks.ModelCheckpoint(\n",
    "    filepath=checkpoint_path,\n",
    "    save_weights_only=False,\n",
    "    monitor='val_accuracy',\n",
    "    mode='max',\n",
    "    save_best_only=True)"
   ]
  },
  {
   "cell_type": "code",
   "execution_count": 25,
   "id": "fd3a2044",
   "metadata": {
    "execution": {
     "iopub.execute_input": "2023-11-18T06:06:18.309415Z",
     "iopub.status.busy": "2023-11-18T06:06:18.309127Z",
     "iopub.status.idle": "2023-11-18T06:06:18.314445Z",
     "shell.execute_reply": "2023-11-18T06:06:18.313630Z"
    },
    "id": "PUn4sZPKjdYL",
    "papermill": {
     "duration": 0.061365,
     "end_time": "2023-11-18T06:06:18.316214",
     "exception": false,
     "start_time": "2023-11-18T06:06:18.254849",
     "status": "completed"
    },
    "tags": []
   },
   "outputs": [],
   "source": [
    "from tensorflow.keras.callbacks import LearningRateScheduler\n",
    "\n",
    "def lr_scheduler_ft(curr_epoch, curr_lr, start= 10, rate= 0.05):\n",
    "    \"\"\"\n",
    "    Learning rate scheduler function for fine-tuning.\n",
    "\n",
    "    This function adjusts the learning rate during training.\n",
    "    It keeps the initial learning rate unchanged until the 40th epoch,\n",
    "    after which it exponentially decreases the learning rate.\n",
    "\n",
    "    Parameters:\n",
    "    - curr_epoch: The current epoch index.\n",
    "    - curr_lr: The current learning rate.\n",
    "    - start: The epoch at which the exponential decay starts (default: 40).\n",
    "    - rate: The rate controlling the decay (default: 0.008).\n",
    "\n",
    "    Returns:\n",
    "    - Updated learning rate.\n",
    "    \"\"\"\n",
    "    if curr_epoch < start:\n",
    "        return curr_lr\n",
    "    else:\n",
    "        return curr_lr * tf.math.exp(-rate)"
   ]
  },
  {
   "cell_type": "code",
   "execution_count": 26,
   "id": "03ff7405",
   "metadata": {
    "execution": {
     "iopub.execute_input": "2023-11-18T06:06:18.424737Z",
     "iopub.status.busy": "2023-11-18T06:06:18.424454Z",
     "iopub.status.idle": "2023-11-18T06:06:18.442678Z",
     "shell.execute_reply": "2023-11-18T06:06:18.442040Z"
    },
    "id": "AifC9mU_chCY",
    "papermill": {
     "duration": 0.074303,
     "end_time": "2023-11-18T06:06:18.444442",
     "exception": false,
     "start_time": "2023-11-18T06:06:18.370139",
     "status": "completed"
    },
    "tags": []
   },
   "outputs": [],
   "source": [
    "# Set up a learning rate scheduler and a custom plotting callback, as well as\n",
    "# checkpoints\n",
    "lr_schedule = LearningRateScheduler(lr_scheduler_ft)\n",
    "callbacks_list = [PlotLearning()]\n",
    "callbacks = [cp_callback]\n",
    "\n",
    "# Compile the Transfer Learning model: use a lower learning rate for fine-tuning,\n",
    "# as well as increase the weight decay regularization, to prevent overfitting\n",
    "ft_model.compile(\n",
    "    loss=tfk.losses.CategoricalCrossentropy(),\n",
    "    optimizer=tfk.optimizers.AdamW(learning_rate=5e-5,\n",
    "                                   weight_decay= 0.01),\n",
    ")"
   ]
  },
  {
   "cell_type": "code",
   "execution_count": 27,
   "id": "22dac38b",
   "metadata": {
    "execution": {
     "iopub.execute_input": "2023-11-18T06:06:18.552907Z",
     "iopub.status.busy": "2023-11-18T06:06:18.552318Z",
     "iopub.status.idle": "2023-11-18T08:19:24.616533Z",
     "shell.execute_reply": "2023-11-18T08:19:24.615595Z"
    },
    "id": "IqV2XuF7chCZ",
    "outputId": "5a13401f-0668-4177-e360-bbd769d3c5b6",
    "papermill": {
     "duration": 7986.120639,
     "end_time": "2023-11-18T08:19:24.618601",
     "exception": false,
     "start_time": "2023-11-18T06:06:18.497962",
     "status": "completed"
    },
    "tags": []
   },
   "outputs": [
    {
     "data": {
      "image/png": "[encoded data removed]",
      "text/plain": [
       "<Figure size 1500x500 with 2 Axes>"
      ]
     },
     "metadata": {},
     "output_type": "display_data"
    },
    {
     "name": "stdout",
     "output_type": "stream",
     "text": [
      "345/345 [==============================] - 234s 678ms/step - loss: 0.0338 - accuracy: 0.9882 - val_loss: 0.1220 - val_accuracy: 0.9624 - lr: 1.5060e-05\n"
     ]
    }
   ],
   "source": [
    "# Train the model with fine-tuning\n",
    "print(\"Last part of CNN is training.\")\n",
    "ft_history = ft_model.fit(\n",
    "    x = X_train, # input training data\n",
    "    y = y_train,  # target training data\n",
    "    batch_size = 16,\n",
    "    epochs = 150,\n",
    "    validation_data = (X_val, y_val), # validation data\n",
    "    callbacks = [tfk.callbacks.EarlyStopping(monitor= 'val_accuracy',\n",
    "                                             mode= 'max',\n",
    "                                             patience= 15,\n",
    "                                             restore_best_weights= True),\n",
    "                 callbacks_list,\n",
    "                 lr_schedule,\n",
    "                 callbacks]\n",
    ").history"
   ]
  },
  {
   "cell_type": "code",
   "execution_count": 29,
   "id": "3fd0000e",
   "metadata": {
    "execution": {
     "iopub.execute_input": "2023-11-18T08:19:31.270578Z",
     "iopub.status.busy": "2023-11-18T08:19:31.270258Z",
     "iopub.status.idle": "2023-11-18T08:20:31.187966Z",
     "shell.execute_reply": "2023-11-18T08:20:31.186984Z"
    },
    "id": "aareAFGF0xF1",
    "outputId": "f4afdb12-d0c7-4325-9eac-7d7c6b6609c6",
    "papermill": {
     "duration": 69.506611,
     "end_time": "2023-11-18T08:20:40.714296",
     "exception": false,
     "start_time": "2023-11-18T08:19:31.207685",
     "status": "completed"
    },
    "tags": []
   },
   "outputs": [
    {
     "name": "stdout",
     "output_type": "stream",
     "text": [
      "Finished training of  convnext_FT_aug_new  model. Model saved successfully.\n"
     ]
    }
   ],
   "source": [
    "model_name = 'convnext_FT_aug_new'\n",
    "\n",
    "# Save the trained ConvNeXt model with transfer learning\n",
    "ft_model.save(model_name)\n",
    "\n",
    "print(\"Finished training of \", model_name, \" model. Model saved successfully.\")"
   ]
  },
  {
   "cell_type": "code",
   "execution_count": 30,
   "id": "e904732a",
   "metadata": {
    "execution": {
     "iopub.execute_input": "2023-11-18T08:20:40.848252Z",
     "iopub.status.busy": "2023-11-18T08:20:40.847863Z",
     "iopub.status.idle": "2023-11-18T08:21:45.198137Z",
     "shell.execute_reply": "2023-11-18T08:21:45.197277Z"
    },
    "id": "h5x30EHmchCa",
    "outputId": "c07a1b02-f629-4bd2-e00d-e56afc425d82",
    "papermill": {
     "duration": 64.416519,
     "end_time": "2023-11-18T08:21:45.200474",
     "exception": false,
     "start_time": "2023-11-18T08:20:40.783955",
     "status": "completed"
    },
    "tags": []
   },
   "outputs": [
    {
     "name": "stdout",
     "output_type": "stream",
     "text": [
      "20/20 [==============================] - 6s 288ms/step - loss: 0.1228 - accuracy: 0.9706\n",
      "173/173 [==============================] - 53s 304ms/step - loss: 0.0092 - accuracy: 0.9973\n",
      "Last model evaluation:\n",
      "Train loss: 0.0091709578409791\n",
      "Train accuracy: 0.9972766637802124\n",
      "Validation loss: 0.12275809049606323\n",
      "Validation accuracy: 0.970588207244873\n"
     ]
    }
   ],
   "source": [
    "# Evaluate the last model on validation and training sets\n",
    "last_val_loss, last_val_accuracy = ft_model.evaluate(X_val, y_val)\n",
    "last_train_loss, last_train_accuracy = ft_model.evaluate(X_train, y_train)\n",
    "\n",
    "# Update the lists with the evaluation metrics\n",
    "val_loss.append(last_val_loss)\n",
    "val_accuracy.append(last_val_accuracy)\n",
    "train_loss.append(last_train_loss)\n",
    "train_accuracy.append(last_train_accuracy)\n",
    "\n",
    "# Display the evaluation metrics for the last model\n",
    "print(\"Last model evaluation:\")\n",
    "print(\"Train loss:\", last_train_loss)\n",
    "print(\"Train accuracy:\", last_train_accuracy)\n",
    "print(\"Validation loss:\", last_val_loss)\n",
    "print(\"Validation accuracy:\", last_val_accuracy)"
   ]
  }
 ],
 "metadata": {
  "accelerator": "GPU",
  "colab": {
   "collapsed_sections": [
    "3hAvqSli1b3L",
    "jQgNWgsS1b3R",
    "QH1V0_qXjidO"
   ],
   "gpuType": "T4",
   "machine_shape": "hm",
   "provenance": []
  },
  "kaggle": {
   "accelerator": "nvidiaTeslaT4",
   "dataSources": [
    {
     "datasetId": 3980607,
     "sourceId": 6932384,
     "sourceType": "datasetVersion"
    },
    {
     "datasetId": 3995966,
     "sourceId": 6956908,
     "sourceType": "datasetVersion"
    },
    {
     "datasetId": 4001030,
     "sourceId": 6964562,
     "sourceType": "datasetVersion"
    }
   ],
   "dockerImageVersionId": 30588,
   "isGpuEnabled": true,
   "isInternetEnabled": true,
   "language": "python",
   "sourceType": "notebook"
  },
  "kernelspec": {
   "display_name": "Python 3",
   "language": "python",
   "name": "python3"
  },
  "language_info": {
   "codemirror_mode": {
    "name": "ipython",
    "version": 3
   },
   "file_extension": ".py",
   "mimetype": "text/x-python",
   "name": "python",
   "nbconvert_exporter": "python",
   "pygments_lexer": "ipython3",
   "version": "3.10.12"
  },
  "papermill": {
   "default_parameters": {},
   "duration": 27679.36377,
   "end_time": "2023-11-18T08:21:48.560403",
   "environment_variables": {},
   "exception": null,
   "input_path": "__notebook__.ipynb",
   "output_path": "__notebook__.ipynb",
   "parameters": {},
   "start_time": "2023-11-18T00:40:29.196633",
   "version": "2.4.0"
  }
 },
 "nbformat": 4,
 "nbformat_minor": 5
}
